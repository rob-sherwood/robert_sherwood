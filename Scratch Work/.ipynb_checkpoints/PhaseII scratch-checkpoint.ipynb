{
 "cells": [
  {
   "cell_type": "markdown",
   "metadata": {},
   "source": [
    "# Prepare Data for Hydrus-1D"
   ]
  },
  {
   "cell_type": "code",
   "execution_count": 97,
   "metadata": {},
   "outputs": [],
   "source": [
    "import pandas as pd\n",
    "import numpy as np\n",
    "import matplotlib.pyplot as plt\n",
    "from pandas.plotting import register_matplotlib_converters\n",
    "register_matplotlib_converters()\n",
    "from scipy import stats\n",
    "import glob"
   ]
  },
  {
   "cell_type": "code",
   "execution_count": 223,
   "metadata": {},
   "outputs": [
    {
     "data": {
      "image/png": "[encoded data removed]",
      "text/plain": [
       "<Figure size 432x288 with 1 Axes>"
      ]
     },
     "metadata": {
      "needs_background": "light"
     },
     "output_type": "display_data"
    },
    {
     "data": {
      "text/plain": [
       "(1827, 2649)"
      ]
     },
     "execution_count": 223,
     "metadata": {},
     "output_type": "execute_result"
    }
   ],
   "source": [
    "#Reading raw evaporation data.\n",
    "df = pd.read_csv('..\\AGRON 935\\Valley_Sub_raw.csv', sep = '\\t')\n",
    "\n",
    "#Defining the dataframe of interest to be used for calculaitng the evaporation rate.\n",
    "start = 0\n",
    "end = len(df)-1    #Removing the NAN's from the very end of the dataframe.\n",
    "df = df[start:end]\n",
    "\n",
    "#Giving a meaningful names to a column of data.\n",
    "df['Mass (g)'] = df['Unnamed: 3']\n",
    "df['Uair (kPa)'] = df['Step']\n",
    "df['Step'] = df['Time']\n",
    "df['Time'] = df['Unnamed: 1']\n",
    "df = df.drop(columns=['Unnamed: 1','Unnamed: 3','Unnamed: 5','Notes'])\n",
    "\n",
    "#Converting time from [[YYYY/MM/DD], [HH:MM AM/PM]] to [sec] for calculations and plotting.\n",
    "df['Datetime'] = pd.to_datetime(df['Date'] + \" \" + df['Time'])          #from [[MM/DD/YYYY], [HH:MM, AM/PM]] to [YYYY/MM/DD, HH:MM:SS].\n",
    "df['Time_diff']= df.Datetime-df.Datetime[start]                               #from [YYYY/MM/DD, HH:MM:SS] to [days, HH:MM:SS].\n",
    "df['Delta_sec']= df['Time_diff'].dt.days * 86400 + df['Time_diff'].dt.seconds #from [days, HH:MM:SS] to [sec].\n",
    "\n",
    "#Pot figure of Raw TRIM Data to check it out.\n",
    "plt.scatter(df['Delta_sec'], df['Mass (g)'], alpha = 0.5, label='Evap. Obs.')\n",
    "plt.ylabel('Mass [gr.]', fontsize = 16)\n",
    "plt.xlabel('Time [sec]', fontsize = 16)\n",
    "plt.legend()\n",
    "plt.tight_layout()\n",
    "plt.show()\n",
    "\n",
    "#Sort data into 'Before Test', 'small increment', and 'Large increment' lists via indexes.\n",
    "#Preallocate lists to store appropriate index values.\n",
    "before_test_idx = []\n",
    "small_inc_idx = []\n",
    "large_inc_idx = []\n",
    "\n",
    "#Using a for loop to sort index values based on step: before test, samll increment, and large increment.\n",
    "for index in range(len(df.Step)):\n",
    "    if df.Step[index] == 'Before Test':\n",
    "        before_test_idx.append([index])\n",
    "    elif df.Step[index] == 'small increment':\n",
    "        small_inc_idx.append([index])\n",
    "    else:\n",
    "        large_inc_idx.append([index])\n",
    "        \n",
    "#Finding the max and minimum index value for the small and large increment steps. \n",
    "np.min(small_inc_idx), np.max(small_inc_idx)\n",
    "np.min(large_inc_idx), np.max(large_inc_idx)"
   ]
  },
  {
   "cell_type": "code",
   "execution_count": 224,
   "metadata": {},
   "outputs": [
    {
     "data": {
      "text/html": [
       "<div>\n",
       "<style scoped>\n",
       "    .dataframe tbody tr th:only-of-type {\n",
       "        vertical-align: middle;\n",
       "    }\n",
       "\n",
       "    .dataframe tbody tr th {\n",
       "        vertical-align: top;\n",
       "    }\n",
       "\n",
       "    .dataframe thead th {\n",
       "        text-align: right;\n",
       "    }\n",
       "</style>\n",
       "<table border=\"1\" class=\"dataframe\">\n",
       "  <thead>\n",
       "    <tr style=\"text-align: right;\">\n",
       "      <th></th>\n",
       "      <th>Date</th>\n",
       "      <th>Time</th>\n",
       "      <th>Step</th>\n",
       "      <th>Mass (g)</th>\n",
       "      <th>Uair (kPa)</th>\n",
       "      <th>Datetime</th>\n",
       "      <th>Time_diff</th>\n",
       "      <th>Delta_sec</th>\n",
       "    </tr>\n",
       "  </thead>\n",
       "  <tbody>\n",
       "    <tr>\n",
       "      <td>0</td>\n",
       "      <td>7/24/2019</td>\n",
       "      <td>9:19:22 AM</td>\n",
       "      <td>Before Test</td>\n",
       "      <td>0.0</td>\n",
       "      <td>3.0</td>\n",
       "      <td>2019-07-24 09:19:22</td>\n",
       "      <td>00:00:00</td>\n",
       "      <td>0</td>\n",
       "    </tr>\n",
       "    <tr>\n",
       "      <td>1</td>\n",
       "      <td>7/24/2019</td>\n",
       "      <td>9:19:32 AM</td>\n",
       "      <td>Before Test</td>\n",
       "      <td>0.0</td>\n",
       "      <td>3.0</td>\n",
       "      <td>2019-07-24 09:19:32</td>\n",
       "      <td>00:00:10</td>\n",
       "      <td>10</td>\n",
       "    </tr>\n",
       "  </tbody>\n",
       "</table>\n",
       "</div>"
      ],
      "text/plain": [
       "        Date        Time         Step  Mass (g)  Uair (kPa)  \\\n",
       "0  7/24/2019  9:19:22 AM  Before Test       0.0         3.0   \n",
       "1  7/24/2019  9:19:32 AM  Before Test       0.0         3.0   \n",
       "\n",
       "             Datetime Time_diff  Delta_sec  \n",
       "0 2019-07-24 09:19:22  00:00:00          0  \n",
       "1 2019-07-24 09:19:32  00:00:10         10  "
      ]
     },
     "execution_count": 224,
     "metadata": {},
     "output_type": "execute_result"
    }
   ],
   "source": [
    "df.head(2)"
   ]
  },
  {
   "cell_type": "code",
   "execution_count": 225,
   "metadata": {},
   "outputs": [
    {
     "name": "stdin",
     "output_type": "stream",
     "text": [
      "Input the amount of air measured in the bubble trap in [mL]: 11\n"
     ]
    },
    {
     "name": "stdout",
     "output_type": "stream",
     "text": [
      "0.45398266611638466\n"
     ]
    }
   ],
   "source": [
    "#User input Bubble Trap measurement, in mL.\n",
    "Bubble_trap = float(input(\"Input the amount of air measured in the bubble trap in [mL]:\"))    #[mL]\n",
    "#Calculate the mass of water released during the Large increment, in grams. \n",
    "H2O_large_inc = df['Mass (g)'][np.max(large_inc_idx)] - df['Mass (g)'][np.min(large_inc_idx)] #[gr.]\n",
    "#Calculate the rate of diffused air during the Large increment.\n",
    "Rate_diff_air = Bubble_trap / H2O_large_inc\n",
    "print(Rate_diff_air)\n",
    "\n",
    "#Prealocate a list to store corrected mass values.\n",
    "Corrected_Masses = []\n",
    "\n",
    "#Using a for loop to correct each mass during the Large increment. Correct_Mass1 = Mass1 - (Mass1 - Mass0) * Rate_diff_air.\n",
    "for index in range(np.min(large_inc_idx),np.max(large_inc_idx)):\n",
    "    Corrected_Mass = large_inc_array[index] - (large_inc_array[index] - large_inc_array[index-1]) * Rate_diff_air\n",
    "    Corrected_Masses.append([Corrected_Mass])"
   ]
  },
  {
   "cell_type": "code",
   "execution_count": 226,
   "metadata": {},
   "outputs": [
    {
     "data": {
      "text/html": [
       "<div>\n",
       "<style scoped>\n",
       "    .dataframe tbody tr th:only-of-type {\n",
       "        vertical-align: middle;\n",
       "    }\n",
       "\n",
       "    .dataframe tbody tr th {\n",
       "        vertical-align: top;\n",
       "    }\n",
       "\n",
       "    .dataframe thead th {\n",
       "        text-align: right;\n",
       "    }\n",
       "</style>\n",
       "<table border=\"1\" class=\"dataframe\">\n",
       "  <thead>\n",
       "    <tr style=\"text-align: right;\">\n",
       "      <th></th>\n",
       "      <th>0</th>\n",
       "      <th>Mass (g)</th>\n",
       "    </tr>\n",
       "  </thead>\n",
       "  <tbody>\n",
       "    <tr>\n",
       "      <td>0</td>\n",
       "      <td>0.870920</td>\n",
       "      <td>0.870920</td>\n",
       "    </tr>\n",
       "    <tr>\n",
       "      <td>1</td>\n",
       "      <td>0.956442</td>\n",
       "      <td>0.956442</td>\n",
       "    </tr>\n",
       "    <tr>\n",
       "      <td>2</td>\n",
       "      <td>1.085522</td>\n",
       "      <td>1.085522</td>\n",
       "    </tr>\n",
       "    <tr>\n",
       "      <td>3</td>\n",
       "      <td>1.216442</td>\n",
       "      <td>1.216442</td>\n",
       "    </tr>\n",
       "    <tr>\n",
       "      <td>4</td>\n",
       "      <td>1.350982</td>\n",
       "      <td>1.350982</td>\n",
       "    </tr>\n",
       "    <tr>\n",
       "      <td>...</td>\n",
       "      <td>...</td>\n",
       "      <td>...</td>\n",
       "    </tr>\n",
       "    <tr>\n",
       "      <td>817</td>\n",
       "      <td>25.100000</td>\n",
       "      <td>25.100000</td>\n",
       "    </tr>\n",
       "    <tr>\n",
       "      <td>818</td>\n",
       "      <td>25.100000</td>\n",
       "      <td>25.100000</td>\n",
       "    </tr>\n",
       "    <tr>\n",
       "      <td>819</td>\n",
       "      <td>25.100000</td>\n",
       "      <td>25.100000</td>\n",
       "    </tr>\n",
       "    <tr>\n",
       "      <td>820</td>\n",
       "      <td>25.105460</td>\n",
       "      <td>25.105460</td>\n",
       "    </tr>\n",
       "    <tr>\n",
       "      <td>821</td>\n",
       "      <td>25.110000</td>\n",
       "      <td>25.110000</td>\n",
       "    </tr>\n",
       "  </tbody>\n",
       "</table>\n",
       "<p>822 rows × 2 columns</p>\n",
       "</div>"
      ],
      "text/plain": [
       "             0   Mass (g)\n",
       "0     0.870920   0.870920\n",
       "1     0.956442   0.956442\n",
       "2     1.085522   1.085522\n",
       "3     1.216442   1.216442\n",
       "4     1.350982   1.350982\n",
       "..         ...        ...\n",
       "817  25.100000  25.100000\n",
       "818  25.100000  25.100000\n",
       "819  25.100000  25.100000\n",
       "820  25.105460  25.105460\n",
       "821  25.110000  25.110000\n",
       "\n",
       "[822 rows x 2 columns]"
      ]
     },
     "execution_count": 226,
     "metadata": {},
     "output_type": "execute_result"
    }
   ],
   "source": [
    "df2"
   ]
  },
  {
   "cell_type": "code",
   "execution_count": 228,
   "metadata": {},
   "outputs": [
    {
     "data": {
      "text/plain": [
       "0       0.00000\n",
       "1       0.00000\n",
       "2       0.00000\n",
       "3       0.00000\n",
       "4       0.00000\n",
       "         ...   \n",
       "817    25.10000\n",
       "818    25.10000\n",
       "819    25.10000\n",
       "820    25.10546\n",
       "821    25.11000\n",
       "Name: Mass (g), Length: 4294, dtype: float64"
      ]
     },
     "execution_count": 228,
     "metadata": {},
     "output_type": "execute_result"
    }
   ],
   "source": [
    "df2['Mass (g)'] = pd.DataFrame(Corrected_Masses)\n",
    "df['Mass (g)'] = df['Mass (g)'][0:np.max(small_inc_idx)]\n",
    "df = df.append(df2)\n",
    "df['Mass (g)']\n",
    "\n",
    "#issue combining. need to remove some from df1 and replace with new from df2."
   ]
  },
  {
   "cell_type": "code",
   "execution_count": null,
   "metadata": {},
   "outputs": [],
   "source": []
  },
  {
   "cell_type": "code",
   "execution_count": null,
   "metadata": {},
   "outputs": [],
   "source": []
  },
  {
   "cell_type": "code",
   "execution_count": 181,
   "metadata": {},
   "outputs": [
    {
     "name": "stdout",
     "output_type": "stream",
     "text": [
      "<class 'numpy.float64'>\n",
      "<class 'numpy.float64'>\n"
     ]
    },
    {
     "data": {
      "text/plain": [
       "0.0"
      ]
     },
     "execution_count": 181,
     "metadata": {},
     "output_type": "execute_result"
    }
   ],
   "source": [
    "large_inc_array = np.array(df['Mass (g)'])\n",
    "print(type(large_inc_array[1]))\n",
    "print(type(Rate_diff_air))\n",
    "large_inc_array[0]"
   ]
  },
  {
   "cell_type": "code",
   "execution_count": null,
   "metadata": {},
   "outputs": [],
   "source": [
    "Corrected_Masses\n",
    "#df['Corrected Mass'] = df['Mass (g)'][large_inc_idx]+Rate_diff_air\n",
    "\n",
    "#large_inc_idx = []\n",
    "#Corrected_Mass = df['Mass (g)'][index] - (df['Mass (g)'][index] - df['Mass (g)'][index-1]) * Rate_diff_air\n",
    "#for index in range(len(df.Step)):\n",
    "#    if df.Step[index] == 'Before Test':\n",
    "#        before_test_idx.append([index])"
   ]
  },
  {
   "cell_type": "code",
   "execution_count": 138,
   "metadata": {},
   "outputs": [],
   "source": [
    "Before_Test = df['Step'].str.match('Before Test')\n",
    "Small_inc = df['Step'].str.match('small increment')\n",
    "Large_inc = df['Step'].str.match('Large increment')"
   ]
  },
  {
   "cell_type": "code",
   "execution_count": 188,
   "metadata": {},
   "outputs": [
    {
     "data": {
      "text/plain": [
       "range(0, 823)"
      ]
     },
     "execution_count": 188,
     "metadata": {},
     "output_type": "execute_result"
    }
   ],
   "source": [
    "range(0,len(large_inc_idx))"
   ]
  },
  {
   "cell_type": "code",
   "execution_count": null,
   "metadata": {},
   "outputs": [],
   "source": []
  }
 ],
 "metadata": {
  "kernelspec": {
   "display_name": "Python 3",
   "language": "python",
   "name": "python3"
  },
  "language_info": {
   "codemirror_mode": {
    "name": "ipython",
    "version": 3
   },
   "file_extension": ".py",
   "mimetype": "text/x-python",
   "name": "python",
   "nbconvert_exporter": "python",
   "pygments_lexer": "ipython3",
   "version": "3.7.4"
  }
 },
 "nbformat": 4,
 "nbformat_minor": 4
}
