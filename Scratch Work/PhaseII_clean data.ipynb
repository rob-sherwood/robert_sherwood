{
 "cells": [
  {
   "cell_type": "markdown",
   "metadata": {},
   "source": [
    "# Correcting Outflow Data for Diffused Air and Evaportaion"
   ]
  },
  {
   "cell_type": "code",
   "execution_count": 14,
   "metadata": {},
   "outputs": [],
   "source": [
    "import pandas as pd\n",
    "import numpy as np\n",
    "import matplotlib.pyplot as plt\n",
    "from pandas.plotting import register_matplotlib_converters\n",
    "register_matplotlib_converters()"
   ]
  },
  {
   "cell_type": "code",
   "execution_count": 16,
   "metadata": {},
   "outputs": [
    {
     "name": "stdin",
     "output_type": "stream",
     "text": [
      "Input the mass of water required to saturate the sampe, in gr.: 37\n",
      "Input the mass of water imbibed into the sampe, in gr.: 37\n",
      "Input the amount of air measured in the bubble trap, in mL: 11\n"
     ]
    },
    {
     "name": "stdout",
     "output_type": "stream",
     "text": [
      "The rate of diffused air is: 0.45 gr./gr.\n"
     ]
    },
    {
     "data": {
      "image/png": "[encoded data removed]",
      "text/plain": [
       "<Figure size 432x288 with 1 Axes>"
      ]
     },
     "metadata": {
      "needs_background": "light"
     },
     "output_type": "display_data"
    },
    {
     "data": {
      "text/html": [
       "<div>\n",
       "<style scoped>\n",
       "    .dataframe tbody tr th:only-of-type {\n",
       "        vertical-align: middle;\n",
       "    }\n",
       "\n",
       "    .dataframe tbody tr th {\n",
       "        vertical-align: top;\n",
       "    }\n",
       "\n",
       "    .dataframe thead th {\n",
       "        text-align: right;\n",
       "    }\n",
       "</style>\n",
       "<table border=\"1\" class=\"dataframe\">\n",
       "  <thead>\n",
       "    <tr style=\"text-align: right;\">\n",
       "      <th></th>\n",
       "      <th>Date</th>\n",
       "      <th>Time</th>\n",
       "      <th>Step</th>\n",
       "      <th>Mass (g)</th>\n",
       "      <th>Uair (kPa)</th>\n",
       "    </tr>\n",
       "  </thead>\n",
       "  <tbody>\n",
       "    <tr>\n",
       "      <td>0</td>\n",
       "      <td>7/24/2019</td>\n",
       "      <td>9:19:22 AM</td>\n",
       "      <td>Before Test</td>\n",
       "      <td>0.000000</td>\n",
       "      <td>3.0</td>\n",
       "    </tr>\n",
       "    <tr>\n",
       "      <td>1</td>\n",
       "      <td>7/24/2019</td>\n",
       "      <td>9:19:32 AM</td>\n",
       "      <td>Before Test</td>\n",
       "      <td>0.000011</td>\n",
       "      <td>3.0</td>\n",
       "    </tr>\n",
       "  </tbody>\n",
       "</table>\n",
       "</div>"
      ],
      "text/plain": [
       "        Date        Time         Step  Mass (g)  Uair (kPa)\n",
       "0  7/24/2019  9:19:22 AM  Before Test  0.000000         3.0\n",
       "1  7/24/2019  9:19:32 AM  Before Test  0.000011         3.0"
      ]
     },
     "execution_count": 16,
     "metadata": {},
     "output_type": "execute_result"
    }
   ],
   "source": [
    "#Reading raw evaporation data.\n",
    "df = pd.read_csv('..\\AGRON 935\\Valley_Sub_raw.csv', sep = '\\t')\n",
    "\n",
    "#Defining the dataframe of interest to be used for calculaitng the evaporation rate.\n",
    "#Excludes the NAN's at the very end of the dataframe.\n",
    "start = 0\n",
    "end = len(df)-1    \n",
    "df = df[start:end]\n",
    "#Giving a meaningful names to a column of data.\n",
    "df['Mass'] = df['Unnamed: 3']\n",
    "df['Uair (kPa)'] = df['Step']\n",
    "df['Step'] = df['Time']\n",
    "df['Time'] = df['Unnamed: 1']\n",
    "df = df.drop(columns=['Unnamed: 1','Unnamed: 3','Unnamed: 5','Notes'])\n",
    "\n",
    "#Converting time from [[YYYY/MM/DD], [HH:MM AM/PM]] to [sec] for calculations and plotting.\n",
    "df['Datetime'] = pd.to_datetime(df.Date + \" \" + df.Time)                  #from [[MM/DD/YYYY], [HH:MM, AM/PM]] to [YYYY/MM/DD, HH:MM:SS].\n",
    "df['Time_diff']= df.Datetime - df.Datetime[start]                         #from [YYYY/MM/DD, HH:MM:SS] to [days, HH:MM:SS].\n",
    "df['Delta_sec']= df.Time_diff.dt.days * 86400 + df.Time_diff.dt.seconds   #from [days, HH:MM:SS] to [sec].\n",
    "\n",
    "#User input Bubble Trap measurement, in mL.\n",
    "required_water = float(input(\"Input the mass of water required to saturate the sampe, in gr.:\"))   #[gr.]\n",
    "imbibed_water = float(input(\"Input the mass of water imbibed into the sampe, in gr.:\"))            #[gr.]\n",
    "bub_trap = float(input(\"Input the amount of air measured in the bubble trap, in mL:\"))             #[mL]\n",
    "\n",
    "#Sort data into 'Before Test', 'small increment', and 'Large increment' lists via indexes.\n",
    "#Preallocate lists to store appropriate index values.\n",
    "b4_test_idx = []\n",
    "sm_inc_idx = []\n",
    "lg_inc_idx = []\n",
    "#Using a for loop to sort index values based on step: before test, samll increment, and large increment.\n",
    "for index in range(len(df.Step)):\n",
    "    if df.Step[index] == 'Before Test':\n",
    "        b4_test_idx.append(index)\n",
    "    elif df.Step[index] == 'small increment':\n",
    "        sm_inc_idx.append(index)\n",
    "    else:\n",
    "        lg_inc_idx.append(index)\n",
    "\n",
    "#Calculating the rate of diffused air, and correcting the large increment data for diffused air.\n",
    "#Calculate the mass of water released during the Large increment, in grams. \n",
    "H2O_lg_inc = df.Mass[np.max(lg_inc_idx)] - df.Mass[np.min(lg_inc_idx)] #[gr.]\n",
    "#Calculate the rate of diffused air during the Large increment.\n",
    "rt_diff_air = bub_trap / H2O_lg_inc   #[ml H2O displaced / grams large increment H2O outflow] = [gr./gr.], when rho_H2O=1.0 gr/ml\n",
    "print('The rate of diffused air is:', round(rt_diff_air,2), 'gr./gr.')\n",
    "#Create an array of large increment mass values for element-wise corrections.\n",
    "lg_inc_array = np.array(df.Mass)\n",
    "#Prealocate a temporary list to store corrected mass values.\n",
    "Corrected_masses = []\n",
    "#Using a for loop for elementwise correction of the Large increment.\n",
    "#Equation: Correct_Mass1[gr.] = Mass1[gr.] - (Mass1[gr.] - Mass0[gr.]) * Rate_diff_air[ml/gr.]\n",
    "#Indexed to apply the correction to the large increment data only.\n",
    "for index in range(np.min(lg_inc_idx),np.max(lg_inc_idx)):\n",
    "    new_mass = lg_inc_array[index] - (lg_inc_array[index] - lg_inc_array[index-1]) * rt_diff_air\n",
    "    Corrected_masses.append([new_mass])\n",
    "\n",
    "#Replacing the old large increment masses with those corrected for diffused air.\n",
    "#Create a second dataframe of corrected large increment masses.\n",
    "df2 = pd.DataFrame(Corrected_masses)\n",
    "df2['Mass'] = df2                                   #[gr.]\n",
    "#Using a for loop to replace the old large increment masses in the \n",
    "#original dataframe with the new/corrected masses in the second dataframe.\n",
    "for index in range(np.min(lg_inc_idx), np.max(lg_inc_idx)):\n",
    "    index2 = index - np.min(lg_inc_idx)\n",
    "    old_mass = df.Mass[index]                       #[gr.]\n",
    "    new_mass = df2.Mass[index2]                     #[gr.]\n",
    "    df.Mass = df.Mass.replace(old_mass, new_mass)   #[gr.]\n",
    "\n",
    "#Correcting all mass measurements for evaportion and for oversaturation.\n",
    "#Equaiton: Correct_Mass1[gr.] = Mass1[gr.] + Comulative_time[sec] * Evap_rate[gr./sec]\n",
    "#Evaporation rate is constant.\n",
    "evap_rate = 0.0927/86400                                      #[gr./sec]\n",
    "excess_water = required_water - imbibed_water                 #[gr.]\n",
    "df.Mass = df.Mass + df.Delta_sec * evap_rate - excess_water   #[gr.]\n",
    "\n",
    "df['Mass (g)'] = df.Mass\n",
    "df = df.drop(columns = ['Mass'])\n",
    "\n",
    "#if Before_Test = df['Step'].str.match('Before Test')\n",
    "\n",
    "#Pot figure of Raw TRIM Data to check it out.\n",
    "plt.scatter(df['Delta_sec'], df['Mass (g)'], alpha = 0.5, label='Obs. Transient Outflow')\n",
    "plt.ylabel('Mass [gr.]', fontsize = 16)\n",
    "plt.xlabel('Time [sec]', fontsize = 16)\n",
    "plt.legend()\n",
    "plt.tight_layout()\n",
    "plt.show()    \n",
    "\n",
    "df = df.drop(columns = ['Datetime', 'Time_diff', 'Delta_sec'])\n",
    "df.head(2)"
   ]
  },
  {
   "cell_type": "code",
   "execution_count": 138,
   "metadata": {},
   "outputs": [],
   "source": [
    "Before_Test = df['Step'].str.match('Before Test')\n",
    "Small_inc = df['Step'].str.match('small increment')\n",
    "Large_inc = df['Step'].str.match('Large increment')"
   ]
  },
  {
   "cell_type": "code",
   "execution_count": null,
   "metadata": {},
   "outputs": [],
   "source": []
  }
 ],
 "metadata": {
  "kernelspec": {
   "display_name": "Python 3",
   "language": "python",
   "name": "python3"
  },
  "language_info": {
   "codemirror_mode": {
    "name": "ipython",
    "version": 3
   },
   "file_extension": ".py",
   "mimetype": "text/x-python",
   "name": "python",
   "nbconvert_exporter": "python",
   "pygments_lexer": "ipython3",
   "version": "3.7.4"
  }
 },
 "nbformat": 4,
 "nbformat_minor": 4
}
