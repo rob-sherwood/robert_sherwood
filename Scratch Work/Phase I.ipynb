{
 "cells": [
  {
   "cell_type": "markdown",
   "metadata": {},
   "source": [
    "# Phase I\n",
    "\n",
    "* Accept user input data: specific gravity, sample volume, sample target dry density, and sample degree of fouling.\n",
    "* Perform phase relationship calculations using that data to get required dry mass of sample, design height of sample, porosity, and saturated volumetric water content.\n",
    "* Return a .txt file with TRIM test specs for experimental setup. Four columns: Parameter No., Parameter Name in Hydrus-1D, Input Value by User, and Hydrus window name for Jirka. Four parameters: Porosity, Diameter(cm), Sample Height (cm), and Saturated Volumetric Water Content."
   ]
  },
  {
   "cell_type": "code",
   "execution_count": 1,
   "metadata": {},
   "outputs": [],
   "source": [
    "import pandas as pd\n",
    "import math\n",
    "import glob"
   ]
  },
  {
   "cell_type": "code",
   "execution_count": 6,
   "metadata": {},
   "outputs": [
    {
     "name": "stdin",
     "output_type": "stream",
     "text": [
      "Enter the materials initial water content as a decimal (e.g., 0.12) 0.12\n",
      "Enter the sample design height in centimeters (e.g., 12.2) 12.2\n",
      "Enter the specific gravity of the material to two decimal places (e.g., 2.65) 2.64\n",
      "Enter the targeted sample dry density in g/cm^3 (e.g., 1.66) 1.66\n"
     ]
    }
   ],
   "source": [
    "# Input parameters:\n",
    "# specify which cell is being used\n",
    "cell = input('Enter the TRIM cell name as per cell diameter (small = 6cm; large = 24cm):')\n",
    "# materials initial water content\n",
    "intl_grav_wc = input('Enter the materials initial water content as a decimal (e.g., 0.12):')\n",
    "# designed height of sample\n",
    "dsgn_height = input('Enter the sample design height in centimeters (e.g., 12.2):')\n",
    "# specific gravity of sample\n",
    "Gs = input('Enter the specific gravity of the material to two decimal places (e.g., 2.65):')\n",
    "# target dry density of sample\n",
    "targ_dry_dens = input('Enter the targeted sample dry density in g/cm^3 (e.g., 1.66):')\n",
    "\n",
    "# Calculate:\n",
    "# sample volume\n",
    "if cell == 'small':\n",
    "    cell_diam = 6.175 # [cm]\n",
    "else:\n",
    "    cell_diam = 24.5 # [cm]\n",
    "    \n",
    "smpl_vol = math.pi * cell_diam^2 / 4 *dsgn_height\n",
    "\n",
    "# required dry mass of sample\n",
    "\n",
    "# void ratio\n",
    "# porosity\n",
    "# water mass needed to saturate sample\n",
    "# saturated volumetric water content\n",
    "\n",
    "# Select which stone is in use:\n",
    "# 1BAR or 3BAR\n",
    "    # Create a dictionary for each stone\n",
    "\n",
    "# Print:\n",
    "# required dry mass of sample\n",
    "# sampe height\n",
    "# water mass needed to saturate sample"
   ]
  },
  {
   "cell_type": "code",
   "execution_count": null,
   "metadata": {},
   "outputs": [],
   "source": []
  }
 ],
 "metadata": {
  "kernelspec": {
   "display_name": "Python 3",
   "language": "python",
   "name": "python3"
  },
  "language_info": {
   "codemirror_mode": {
    "name": "ipython",
    "version": 3
   },
   "file_extension": ".py",
   "mimetype": "text/x-python",
   "name": "python",
   "nbconvert_exporter": "python",
   "pygments_lexer": "ipython3",
   "version": "3.7.4"
  }
 },
 "nbformat": 4,
 "nbformat_minor": 4
}
