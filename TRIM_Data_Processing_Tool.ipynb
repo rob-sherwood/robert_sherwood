{
 "cells": [
  {
   "cell_type": "markdown",
   "metadata": {},
   "source": [
    "# Transient Water Release and Imbibitions Method Data (TRIM) Processing Tool"
   ]
  },
  {
   "cell_type": "code",
   "execution_count": 93,
   "metadata": {},
   "outputs": [],
   "source": [
    "import pandas as pd\n",
    "import numpy as np\n",
    "import matplotlib.pyplot as plt\n",
    "from pandas.plotting import register_matplotlib_converters\n",
    "register_matplotlib_converters()"
   ]
  },
  {
   "cell_type": "code",
   "execution_count": 94,
   "metadata": {},
   "outputs": [],
   "source": [
    "#Defining functions needed of data processing.\n",
    "\n",
    "def sample_pts2(points, max_time_step, max_points):\n",
    "\n",
    "    \"\"\"This function samples points form the outflow data. \n",
    "    It samples less points where the plot of the data is flat and more points where the \n",
    "    plot of the data is curved. Points are selected based on a time step and a mass step.\"\"\"\n",
    "    \n",
    "    # Prealocating list to store data selected data points in.\n",
    "    chosen_pts = []\n",
    "\n",
    "    # Specifying the starting place for point to point comparison (point 'a' to point 'b').\n",
    "    # Also adding the first point (point a) to the prealocated list 'chosen'.\n",
    "    a = np.min(points)\n",
    "    b = a + 1\n",
    "    chosen_pts.append(a)\n",
    "    \n",
    "    # Creates short-hand variables for a shorter code. The lond had names are used in the definition line to provide more clear explanation.\n",
    "    mx_ts = max_time_step\n",
    "    mx_ps = max_points\n",
    "\n",
    "    # Finds the max and minimum in the list of points.\n",
    "    top = np.max(points)\n",
    "    bottom = np.min(points)\n",
    "\n",
    "    # For loop to exicute point to point comparison while changing the step distances to accomodate for curviture of the plot and sampling rates of the data.\n",
    "    for count in range(len(points)):\n",
    "        if (df.Delta_sec[b] - df.Delta_sec[a]) <= mx_ts or (df['Mass (g)'][b] - df['Mass (g)'][a]) < (df['Mass (g)'][top] - df['Mass (g)'][bottom]) / mx_ps:\n",
    "            b = b + 1   # Increases the step by an incrament of 1 (one) to when the time step or mass step are smaller than desired.\n",
    "        else:\n",
    "            chosen_pts.append(b)   # Collects the desired points.\n",
    "            a = b              # Resetting the first point of comparison to the previously found desired point.\n",
    "            b = b + 1          # Stepping forwar one point to initiate the process of selecting the next desired point.\n",
    "    \n",
    "    # Returning a dataframe of the selected points.\n",
    "    return(pd.DataFrame({'chosen_pts': chosen_pts}))"
   ]
  },
  {
   "cell_type": "markdown",
   "metadata": {},
   "source": [
    "# Phase I: Experimental setup."
   ]
  },
  {
   "cell_type": "code",
   "execution_count": 96,
   "metadata": {},
   "outputs": [
    {
     "name": "stdin",
     "output_type": "stream",
     "text": [
      "Specify which cell you will be using; spell in all lower case letters, (e.g., small or large): small\n",
      "Insert the mass of dry solids in gr. (e.g., 170.00): 170.00\n",
      "Insert the specific gravity of solids (e.g., 2.70): 2.70\n",
      "Insert the target dry density of the sample in gr./cm^3 (e.g., 1.695): 1.695\n"
     ]
    },
    {
     "name": "stdout",
     "output_type": "stream",
     "text": [
      "\n",
      "Compact the 170.0 gr. of dry meaterial to a hieght of 3.35 cm (i.e. 3.25 cm from the top of the acrylic housing).\n",
      "\n",
      "After compaction, take three depth measurements between the top of the acrylic housing and the sample surface; measure in cm. Those measurements will be used to calculate the actual sample dry density (gr./cm^3), porosity, and the mass of water required to saturate the sample (gr.). \n",
      "\n"
     ]
    },
    {
     "name": "stdin",
     "output_type": "stream",
     "text": [
      "When you have your depth measurements ready, press Enter: \n"
     ]
    },
    {
     "name": "stdout",
     "output_type": "stream",
     "text": [
      "\n",
      "Insert the three sample height measurements in cm.\n"
     ]
    },
    {
     "name": "stdin",
     "output_type": "stream",
     "text": [
      "Actual depth #1 (e.g., 3.26): 3.26\n",
      "Actual depth #2 (e.g., 3.24): 3.24\n",
      "Actual depth #3 (e.g., 3.25): 3.25\n"
     ]
    },
    {
     "name": "stdout",
     "output_type": "stream",
     "text": [
      "\n",
      "The following is a summary of experimental setup information. It was transfered to the Sample_Design.txt file. \n",
      " \n",
      " Summary of Experimental Setup \n",
      " TRIM cell info... \n",
      " \t Cell type =  small \n",
      " \t Diameter = 6.175 [cm] \n",
      " \t Height = 6.597 [cm] \n",
      " Soil sample info... \n",
      " \t Total Dry Mass (Ms) = 170.0 [gr.] \n",
      " \t Specific Gravity (Gs) = 2.7 [gr./gr.] \n",
      " \t Height (H) = 3.35 [cm] \n",
      " \t Dry Density (rho) = 1.7 [gr./cm^3] \n",
      " \t Porosity (n) = 0.372 \n",
      " \t Mass of H2O to Saturate (Mw) = 37.09 [gr.]\n"
     ]
    }
   ],
   "source": [
    "# Allows the user to select which TRIM cell will be used.\n",
    "Cell = input(\"Specify which cell you will be using; spell in all lower case letters, (e.g., small or large):\")\n",
    "\n",
    "# Sellects the approprate sell dimentions based on the sell name: small or large.\n",
    "if Cell == 'small':\n",
    "    D_cell = 6.175   # [cm]\n",
    "    H_cell = 6.597   # [cm]\n",
    "else:\n",
    "    D_cell = 25.50   # [cm]\n",
    "    H_cell = 17.80   # [cm]\n",
    "\n",
    "# Calcualtes the cross section area of the flow cell (A_cell in cm^2).\n",
    "A_cell = np.pi * D_cell **2 /4   # [cm^2]    \n",
    "\n",
    "#........................................................................................................................\n",
    "\n",
    "# User Input Sample Information: \n",
    "## mass of dry solids (Ms in gr.), \n",
    "## specific gravity of solids (Gs), and \n",
    "## target dry density of sample (rho_d in gr./cm^3). \n",
    "Ms = float(input(\"Insert the mass of dry solids in gr. (e.g., 170.00):\"))\n",
    "Gs = float(input(\"Insert the specific gravity of solids (e.g., 2.70):\"))\n",
    "rho_dry = float(input(\"Insert the target dry density of the sample in gr./cm^3 (e.g., 1.695):\"))\n",
    "\n",
    "# Calcualting the desing height (H in cm) required to meet target dry density.\n",
    "H = Ms / rho_dry / A_cell   # [cm]\n",
    "H_from_top = H_cell - H     # [cm]\n",
    "\n",
    "# Brief report of sample design information; gives the user an oportunity to construct the sampel before moving to the next step.\n",
    "print(\"\\nCompact the\", Ms, \"gr. of dry meaterial to a hieght of\", round(H,2), \n",
    "      \"[cm] (i.e.\", round(H_from_top,2), \"cm from the top of the acrylic housing).\")\n",
    "print(\"\\nAfter compaction, take three depth measurements between the top of the acrylic housing and the sample surface; measure in cm. Those measurements will be used to\",\n",
    "      \"calculate the actual sample dry density gr./cm^3, porosity, and the mass of water required to saturate the sample gr. \\n\")\n",
    "Next_step = input(\"When you have your depth measurements ready, press Enter:\")   # Gives the user control over progression to the next step.\n",
    "\n",
    "# User input: three measurements of the depth to the sample surface (Dpth# in cm).\n",
    "print(\"\\nInsert the three sample height measurements in cm.\")\n",
    "Dpth1 = float(input(\"Actual depth #1 (e.g., 3.26):\"))   # [cm]\n",
    "Dpth2 = float(input(\"Actual depth #2 (e.g., 3.24):\"))   # [cm]\n",
    "Dpth3 = float(input(\"Actual depth #3 (e.g., 3.25):\"))   # [cm]\n",
    "\n",
    "# Calcualtes the average sample height in cm.\n",
    "H_avg = H_cell - np.average([Dpth1, Dpth2, Dpth3])   # [cm]\n",
    "\n",
    "# Defining the density of water at 20C.\n",
    "rho_w = 0.9982   # [gr./cm^3]\n",
    "\n",
    "# Calculates the porosity of the sample (n) and the mass of water required to saturate the sample (Mw in gr.) based on the average measured sample hieght.\n",
    "n = 1 - (Ms / (Gs * H_avg * A_cell))    # [no units]\n",
    "Mw = H_avg * A_cell * rho_w - Ms / Gs   # [gr.]\n",
    "\n",
    "#........................................................................................................................\n",
    "\n",
    "# Creating and reporting imortant sampe desing information to a .txt file for convienient storage.\n",
    "fh = open(\"Sample_Design.txt\", \"w\")\n",
    "fh.writelines([\"Summary of Experimental Setup \\n TRIM cell info... \\n \\t Cell type = \", Cell, \"\\n \\t Diameter = \", str(D_cell), \" [cm] \\n \\t Height = \", str(H_cell), \" [cm]\",\n",
    "               \"\\n Soil sample info... \\n \\t Total Dry Mass (Ms) = \", str(Ms), \" [gr.] \\n \\t Specific Gravity (Gs) = \", str(round(Gs,2)), \" [gr./gr.] \\n \\t Height (H) = \", \n",
    "               str(round(H_avg,2)), \" [cm] \\n \\t Dry Density (rho) = \", str(round(rho_dry,2)), \" [gr./cm^3] \\n \\t Porosity (n) = \", str(round(n,3)), \n",
    "               \"\\n \\t Mass of H2O to Saturate (Mw) = \", str(round(Mw,2)), \" [gr.]\"])\n",
    "fh.close()\n",
    "\n",
    "# Giving an in-Python display of what was exported to the .txt file.\n",
    "print(\"\\nThe following is a summary of experimental setup information. It was transfered to the Sample_Design.txt file. \\n \\n Summary of Experimental Setup\", \n",
    "      \"\\n TRIM cell info... \\n \\t Cell type = \", Cell, \"\\n \\t Diameter =\", D_cell, \"[cm] \\n \\t Height =\", H_cell, \"[cm] \\n Soil sample info... \\n \\t\", \n",
    "      \"Total Dry Mass (Ms) =\", Ms, \"[gr.] \\n \\t Specific Gravity (Gs) =\", round(Gs,2), \"[gr./gr.] \\n \\t Height (H) =\", round(H_avg,2), \n",
    "      \"[cm] \\n \\t Dry Density (rho_dry) =\", round(rho_dry,2), \"[gr./cm^3] \\n \\t Porosity (n) =\", round(n,3), \"\\n \\t Mass of H2O to Saturate (Mw) =\", round(Mw,2), \"[gr.]\")"
   ]
  },
  {
   "cell_type": "markdown",
   "metadata": {},
   "source": [
    "# Phase II: Processing raw TRIM data; preparation of inputs for Hydrus ID model use."
   ]
  },
  {
   "cell_type": "code",
   "execution_count": 97,
   "metadata": {},
   "outputs": [
    {
     "name": "stdin",
     "output_type": "stream",
     "text": [
      "Please specify the path to csv file of raw TRIM data which you wish to process; note that the name you enter must contain .csv at the end (e.g., Valley_Sub_raw.csv): Valley_Sub_raw.csv\n",
      "Input the amount of air measured in the bubble trap, in mL: 11\n"
     ]
    },
    {
     "name": "stdout",
     "output_type": "stream",
     "text": [
      "The rate of diffused air is: 0.45 gr./gr.\n"
     ]
    },
    {
     "name": "stdin",
     "output_type": "stream",
     "text": [
      "Input the mass of water required to saturate the sampe, in gr.: 37\n",
      "Input the mass of water imbibed into the sampe, in gr.: 37\n"
     ]
    },
    {
     "name": "stdout",
     "output_type": "stream",
     "text": [
      " \n"
     ]
    },
    {
     "data": {
      "image/png": "[encoded data removed]",
      "text/plain": [
       "<Figure size 432x288 with 1 Axes>"
      ]
     },
     "metadata": {
      "needs_background": "light"
     },
     "output_type": "display_data"
    },
    {
     "name": "stdout",
     "output_type": "stream",
     "text": [
      "Figure 1: plot of sampled outflow data; data are corrected for diffused air, evaporation, and excessive water (i.e., S > 1).\n",
      "\n",
      "The sampled outflow data in Figure 1 were exported to the csv file: TRIM_input.csv\n"
     ]
    }
   ],
   "source": [
    "# Reading raw evaporation data.\n",
    "fh_raw = input(\"Please specify the path to csv file of raw TRIM data which you wish to process; note that the name you enter must contain .csv at the end (e.g., Valley_Sub_raw.csv):\")\n",
    "df = pd.read_csv((str(fh_raw)), sep = '\\t')\n",
    "#df = pd.read_csv(\"AGRON 935\\Valley_Sub_raw.csv\", sep = \"\\t\")\n",
    "\n",
    "#........................................................................................................................\n",
    "\n",
    "# Defining the dataframe of interest to be used for calculaitng the evaporation rate.\n",
    "\n",
    "## Excludes the NAN's at the very end of the dataframe.\n",
    "start = 0\n",
    "end = len(df)-1    \n",
    "df = df[start:end]\n",
    "\n",
    "## Giving a meaningful names to a column of data.\n",
    "df['Mass'] = df['Unnamed: 3']\n",
    "df['Uair (kPa)'] = df['Step']\n",
    "df['Step'] = df['Time']\n",
    "df['Time'] = df['Unnamed: 1']\n",
    "df = df.drop(columns=['Unnamed: 1','Unnamed: 3','Unnamed: 5','Notes'])\n",
    "\n",
    "## Converting time from [[YYYY/MM/DD], [HH:MM AM/PM]] to [sec] for calculations and plotting.\n",
    "df['Datetime'] = pd.to_datetime(df.Date + \" \" + df.Time)                  # from [[MM/DD/YYYY], [HH:MM, AM/PM]] to [YYYY/MM/DD, HH:MM:SS].\n",
    "df['Time_diff']= df.Datetime - df.Datetime[start]                         # from [YYYY/MM/DD, HH:MM:SS] to [days, HH:MM:SS].\n",
    "df['Delta_sec']= df.Time_diff.dt.days * 86400 + df.Time_diff.dt.seconds   # from [days, HH:MM:SS] to [sec].\n",
    "\n",
    "#........................................................................................................................\n",
    "\n",
    "# Sort data based on step type: 'Before Test', 'small increment', and 'Large increment'.\n",
    "\n",
    "## Removing 'Before Test' data.\n",
    "idx = df.Step != \"Before Test\"      # Identifies the rows to keep: 'small' and 'Large increments' which are not 'Before Test'.\n",
    "df = df[idx]                        # Applies the index to the dataframe removing the 'Before Test' data.\n",
    "df = df.reset_index(0)              # Resets the index to zero.\n",
    "df = df.drop(columns = ['index'])   # Drops the old index column.\n",
    "\n",
    "## Preallocate lists to store appropriate index values.\n",
    "sm_inc_idx = []\n",
    "lg_inc_idx = []\n",
    "\n",
    "## Using a for loop to sort index values based on step: 'samll increment' and 'Large increment'.\n",
    "for index in range(len(df.Step)):    \n",
    "    if df.Step[index] == \"small increment\":\n",
    "        sm_inc_idx.append(index)\n",
    "    else:\n",
    "        lg_inc_idx.append(index)\n",
    "\n",
    "#........................................................................................................................\n",
    "\n",
    "# Calculating the rate of diffused air, and correcting the large increment data for diffused air.\n",
    "\n",
    "## User input Bubble Trap measurement, in mL.\n",
    "bub_trap = float(input(\"Input the amount of air measured in the bubble trap, in mL:\"))   # [mL]\n",
    "\n",
    "## Calculate the mass of water released during the Large increment, in grams. \n",
    "H2O_lg_inc = df.Mass[np.max(lg_inc_idx)] - df.Mass[np.min(lg_inc_idx)]   # [gr.]\n",
    "\n",
    "## Calculate the rate of diffused air during the Large increment.\n",
    "rt_diff_air = bub_trap / H2O_lg_inc   # [ml H2O displaced / grams large increment H2O outflow] = [gr./gr.], when rho_H2O=1.0 gr/ml\n",
    "print(\"The rate of diffused air is:\", round(rt_diff_air,2), \"gr./gr.\")\n",
    "\n",
    "## Create an array of large increment mass values for element-wise corrections.\n",
    "lg_inc_array = np.array(df.Mass)\n",
    "\n",
    "## Prealocate a temporary list to store corrected mass values.\n",
    "Corrected_masses = []\n",
    "\n",
    "## Using a for loop for elementwise correction of the large increment; the for loop is indexed to apply the correction to the large increment data only.\n",
    "## Equation: Correct_Mass1[gr.] = Mass1[gr.] - (Mass1[gr.] - Mass0[gr.]) * Rate_diff_air[ml/gr.]\n",
    "for index in range(np.min(lg_inc_idx),np.max(lg_inc_idx)):\n",
    "    new_mass = lg_inc_array[index] - (lg_inc_array[index] - lg_inc_array[index-1]) * rt_diff_air\n",
    "    Corrected_masses.append([new_mass])\n",
    "\n",
    "#........................................................................................................................\n",
    "\n",
    "# Replacing the old large increment masses with those corrected for diffused air.\n",
    "\n",
    "## Create a second dataframe of corrected large increment masses.\n",
    "df2 = pd.DataFrame(Corrected_masses)\n",
    "df2['Mass'] = df2                                   # [gr.]\n",
    "\n",
    "## Using a for loop to replace the old large increment masses in the \n",
    "## original dataframe with the new/corrected masses in the second dataframe.\n",
    "for index in range(np.min(lg_inc_idx), np.max(lg_inc_idx)):\n",
    "    index2 = index - np.min(lg_inc_idx)\n",
    "    old_mass = df.Mass[index]                       # [gr.]\n",
    "    new_mass = df2.Mass[index2]                     # [gr.]\n",
    "    df.Mass = df.Mass.replace(old_mass, new_mass)   # [gr.]\n",
    "\n",
    "#........................................................................................................................   \n",
    "\n",
    "# Correcting all mass measurements for evaportion and for oversaturation.\n",
    "\n",
    "## User inputs the mass of water required to saturate the sample and the amount that was in the sample when the test was initiated.\n",
    "required_water = float(input(\"Input the mass of water required to saturate the sampe, in gr.:\"))   # [gr.]\n",
    "imbibed_water = float(input(\"Input the mass of water imbibed into the sampe, in gr.:\"))            # [gr.]\n",
    "print(\" \") # Making some space for readability of printed information.\n",
    "\n",
    "## Equaiton: Correct_Mass1[gr.] = Mass1[gr.] + Comulative_time[sec] * Evap_rate[gr./sec]\n",
    "evap_rate = 0.0927/86400                                      # [gr./sec], Evaporation rate is constant.\n",
    "excess_water = imbibed_water - required_water                 # [gr.]\n",
    "df.Mass = df.Mass + df.Delta_sec * evap_rate - excess_water   # [gr.]\n",
    "\n",
    "## Updataing the 'Mass (g)' column with the corrected 'Mass' values, and removing the rows with negative mass values.\n",
    "df['Mass (g)'] = df.Mass\n",
    "df = df.drop(columns = ['Mass'])\n",
    "idx = df['Mass (g)'] > 0                                     # Developing a boolian index to excluded negative mass values.\n",
    "df = df[idx]                                                 # selecting range of rows in the dataframe that have positive mass values.\n",
    "df = df.reset_index(0)                                       # Resetting the index to start with zero.\n",
    "df = df.drop(columns = ['index', 'Datetime', 'Time_diff'])   # Removing un-needed columns of transitional information.\n",
    "\n",
    "#........................................................................................................................\n",
    "\n",
    "# Redefine the 'small increment', and 'Large increment' indexes.\n",
    "\n",
    "## Preallocate lists to store appropriate index values.\n",
    "sm_inc_idx = []\n",
    "lg_inc_idx = []\n",
    "\n",
    "## Using a for loop to sort index values based on step: 'samll increment' and 'Large increment'.\n",
    "for index in range(len(df.Step)):    \n",
    "    if df.Step[index] == \"small increment\":\n",
    "        sm_inc_idx.append(index)\n",
    "    else:\n",
    "        lg_inc_idx.append(index)\n",
    "        \n",
    "#........................................................................................................................\n",
    "\n",
    "# Sampling data from the corrected TRIM data.\n",
    "\n",
    "## Specifying the step size for time and mass.\n",
    "mx_ts = 300   # Should not exceed the max sampling rate used to collect the TRIM experiment data, typically 300 seconds.\n",
    "mx_ps = 100   # Should not be less than the minimum number of points recommended for inverse modeling procedures: 100 points, (Wayllace and Lu 2012).\n",
    "\n",
    "## Exicuting the sampling function for the small and the large step incraments of the TRIM test individually, then combining the two dataframes into one.\n",
    "chosen_sm = sample_pts2(range(np.min(sm_inc_idx),np.max(sm_inc_idx)),mx_ts,mx_ps)\n",
    "chosen_lg = sample_pts2(range(np.min(lg_inc_idx),np.max(lg_inc_idx)),mx_ts,mx_ps)\n",
    "df3 = chosen_sm.append(chosen_lg)\n",
    "\n",
    "## Optimizing the step size to meet or slightly exceed the minium number of points for modeling. The minimum number of point required is 100.\n",
    "while len(df3) < 150:\n",
    "    \n",
    "    df3 = []   # Emptying the dataframe\n",
    "    \n",
    "    ## Adjusting the step sizes\n",
    "    mx_ts = mx_ts - 25\n",
    "    mx_ps = mx_ps + 25\n",
    "    \n",
    "    ## Re-exicuting the sampling fucntion with the adjusted step sizes and merging the two dataframes into one.\n",
    "    chosen_sm = sample_pts2(range(np.min(sm_inc_idx),np.max(sm_inc_idx)),mx_ts,mx_ps)\n",
    "    chosen_lg = sample_pts2(range(np.min(lg_inc_idx),np.max(lg_inc_idx)),mx_ts,mx_ps)\n",
    "    df3 = chosen_sm.append(chosen_lg)\n",
    "\n",
    "#........................................................................................................................ \n",
    "\n",
    "# Plotting the selected points to show the sampled data.\n",
    "plt.scatter(df.Delta_sec.reindex(df3.chosen_pts), df['Mass (g)'].reindex(df3.chosen_pts), alpha = 0.5, label=\"Sampled Points\", color = \"green\")\n",
    "plt.title(\"Sampled Outflow Data\", fontsize = 16)\n",
    "plt.ylabel(\"Mass [gr.]\", fontsize = 14)\n",
    "plt.xlabel(\"Time [sec]\", fontsize = 14)\n",
    "plt.legend()\n",
    "plt.tight_layout()\n",
    "plt.show()\n",
    "\n",
    "## Plot caption...\n",
    "print(\"Figure 1: plot of sampled outflow data; data are corrected for diffused air, evaporation, and excessive water (i.e., S > 1).\")\n",
    "\n",
    "#........................................................................................................................ \n",
    "\n",
    "# Exporting the sampled points as .csv file: TRIM_input.csv.\n",
    "\n",
    "## Create a dataframe to store all the information that are to be exported.\n",
    "TRIM_input = pd.DataFrame()\n",
    "\n",
    "## Add all the appropriate data to that dataframe: data are selected using the sampled points as an index so that the corresponding data for each selected point is collected.\n",
    "TRIM_input['Date'] = df.Date[df3.chosen_pts]                          # [MM/DD/YYYY]\n",
    "TRIM_input['Time'] = df.Time[df3.chosen_pts]                          # [HH:MM:SS AM/PM]\n",
    "TRIM_input['Step'] = df.Step[df3.chosen_pts]                          # [small increment or Large increment]\n",
    "TRIM_input['Mass (g)'] = df['Mass (g)'].reindex(df3.chosen_pts)       # [gr.]\n",
    "TRIM_input['Uair (kPa)'] = df['Uair (kPa)'].reindex(df3.chosen_pts)   # [kPa]\n",
    "\n",
    "## Sets the 'Date' column as the dataframe index.\n",
    "TRIM_input = TRIM_input.set_index('Date')\n",
    "\n",
    "## Create a csv file for the dataframe to be passed to and stored in.\n",
    "TRIM_input.to_csv(\"TRIM_input.csv\", sep = \"\\t\")\n",
    "\n",
    "## Notify the user that the data has been exported to the csv file.\n",
    "print(\"\\nThe sampled outflow data in Figure 1 were exported to the csv file: TRIM_input.csv\")"
   ]
  },
  {
   "cell_type": "code",
   "execution_count": 98,
   "metadata": {},
   "outputs": [
    {
     "data": {
      "text/html": [
       "<div>\n",
       "<style scoped>\n",
       "    .dataframe tbody tr th:only-of-type {\n",
       "        vertical-align: middle;\n",
       "    }\n",
       "\n",
       "    .dataframe tbody tr th {\n",
       "        vertical-align: top;\n",
       "    }\n",
       "\n",
       "    .dataframe thead th {\n",
       "        text-align: right;\n",
       "    }\n",
       "</style>\n",
       "<table border=\"1\" class=\"dataframe\">\n",
       "  <thead>\n",
       "    <tr style=\"text-align: right;\">\n",
       "      <th></th>\n",
       "      <th>Date</th>\n",
       "      <th>Time</th>\n",
       "      <th>Step</th>\n",
       "      <th>Mass (g)</th>\n",
       "      <th>Uair (kPa)</th>\n",
       "    </tr>\n",
       "  </thead>\n",
       "  <tbody>\n",
       "    <tr>\n",
       "      <td>0</td>\n",
       "      <td>7/24/2019</td>\n",
       "      <td>9:19:52 AM</td>\n",
       "      <td>small increment</td>\n",
       "      <td>0.000032</td>\n",
       "      <td>3.0</td>\n",
       "    </tr>\n",
       "    <tr>\n",
       "      <td>1</td>\n",
       "      <td>7/24/2019</td>\n",
       "      <td>9:22:02 AM</td>\n",
       "      <td>small increment</td>\n",
       "      <td>0.030172</td>\n",
       "      <td>4.0</td>\n",
       "    </tr>\n",
       "    <tr>\n",
       "      <td>2</td>\n",
       "      <td>7/24/2019</td>\n",
       "      <td>9:24:12 AM</td>\n",
       "      <td>small increment</td>\n",
       "      <td>0.050311</td>\n",
       "      <td>4.0</td>\n",
       "    </tr>\n",
       "    <tr>\n",
       "      <td>3</td>\n",
       "      <td>7/24/2019</td>\n",
       "      <td>9:26:23 AM</td>\n",
       "      <td>small increment</td>\n",
       "      <td>0.070452</td>\n",
       "      <td>4.0</td>\n",
       "    </tr>\n",
       "    <tr>\n",
       "      <td>4</td>\n",
       "      <td>7/24/2019</td>\n",
       "      <td>9:28:33 AM</td>\n",
       "      <td>small increment</td>\n",
       "      <td>0.100591</td>\n",
       "      <td>4.0</td>\n",
       "    </tr>\n",
       "    <tr>\n",
       "      <td>...</td>\n",
       "      <td>...</td>\n",
       "      <td>...</td>\n",
       "      <td>...</td>\n",
       "      <td>...</td>\n",
       "      <td>...</td>\n",
       "    </tr>\n",
       "    <tr>\n",
       "      <td>151</td>\n",
       "      <td>7/25/2019</td>\n",
       "      <td>8:01:28 PM</td>\n",
       "      <td>Large increment</td>\n",
       "      <td>24.844035</td>\n",
       "      <td>290.0</td>\n",
       "    </tr>\n",
       "    <tr>\n",
       "      <td>152</td>\n",
       "      <td>7/25/2019</td>\n",
       "      <td>10:31:31 PM</td>\n",
       "      <td>Large increment</td>\n",
       "      <td>24.933695</td>\n",
       "      <td>290.0</td>\n",
       "    </tr>\n",
       "    <tr>\n",
       "      <td>153</td>\n",
       "      <td>7/26/2019</td>\n",
       "      <td>12:51:34 AM</td>\n",
       "      <td>Large increment</td>\n",
       "      <td>25.022710</td>\n",
       "      <td>290.0</td>\n",
       "    </tr>\n",
       "    <tr>\n",
       "      <td>154</td>\n",
       "      <td>7/26/2019</td>\n",
       "      <td>3:16:37 AM</td>\n",
       "      <td>Large increment</td>\n",
       "      <td>25.117508</td>\n",
       "      <td>290.0</td>\n",
       "    </tr>\n",
       "    <tr>\n",
       "      <td>155</td>\n",
       "      <td>7/26/2019</td>\n",
       "      <td>3:51:38 AM</td>\n",
       "      <td>Large increment</td>\n",
       "      <td>25.214302</td>\n",
       "      <td>290.0</td>\n",
       "    </tr>\n",
       "  </tbody>\n",
       "</table>\n",
       "<p>156 rows × 5 columns</p>\n",
       "</div>"
      ],
      "text/plain": [
       "          Date         Time             Step   Mass (g)  Uair (kPa)\n",
       "0    7/24/2019   9:19:52 AM  small increment   0.000032         3.0\n",
       "1    7/24/2019   9:22:02 AM  small increment   0.030172         4.0\n",
       "2    7/24/2019   9:24:12 AM  small increment   0.050311         4.0\n",
       "3    7/24/2019   9:26:23 AM  small increment   0.070452         4.0\n",
       "4    7/24/2019   9:28:33 AM  small increment   0.100591         4.0\n",
       "..         ...          ...              ...        ...         ...\n",
       "151  7/25/2019   8:01:28 PM  Large increment  24.844035       290.0\n",
       "152  7/25/2019  10:31:31 PM  Large increment  24.933695       290.0\n",
       "153  7/26/2019  12:51:34 AM  Large increment  25.022710       290.0\n",
       "154  7/26/2019   3:16:37 AM  Large increment  25.117508       290.0\n",
       "155  7/26/2019   3:51:38 AM  Large increment  25.214302       290.0\n",
       "\n",
       "[156 rows x 5 columns]"
      ]
     },
     "execution_count": 98,
     "metadata": {},
     "output_type": "execute_result"
    }
   ],
   "source": [
    "# Read the csv file to check for mistakes.\n",
    "pd.read_csv(\"TRIM_input.csv\", sep = \"\\t\")"
   ]
  },
  {
   "cell_type": "raw",
   "metadata": {},
   "source": [
    "TRIM_input.close()"
   ]
  },
  {
   "cell_type": "code",
   "execution_count": 114,
   "metadata": {},
   "outputs": [
    {
     "data": {
      "text/plain": [
       "\u001b[1;31mSignature:\u001b[0m \u001b[0mfh\u001b[0m\u001b[1;33m.\u001b[0m\u001b[0mreplace\u001b[0m\u001b[1;33m(\u001b[0m\u001b[0mold\u001b[0m\u001b[1;33m,\u001b[0m \u001b[0mnew\u001b[0m\u001b[1;33m,\u001b[0m \u001b[0mcount\u001b[0m\u001b[1;33m=\u001b[0m\u001b[1;33m-\u001b[0m\u001b[1;36m1\u001b[0m\u001b[1;33m,\u001b[0m \u001b[1;33m/\u001b[0m\u001b[1;33m)\u001b[0m\u001b[1;33m\u001b[0m\u001b[1;33m\u001b[0m\u001b[0m\n",
       "\u001b[1;31mDocstring:\u001b[0m\n",
       "Return a copy with all occurrences of substring old replaced by new.\n",
       "\n",
       "  count\n",
       "    Maximum number of occurrences to replace.\n",
       "    -1 (the default value) means replace all occurrences.\n",
       "\n",
       "If the optional argument count is given, only the first count occurrences are\n",
       "replaced.\n",
       "\u001b[1;31mType:\u001b[0m      builtin_function_or_method\n"
      ]
     },
     "metadata": {},
     "output_type": "display_data"
    }
   ],
   "source": [
    "fh.replace?"
   ]
  },
  {
   "cell_type": "markdown",
   "metadata": {},
   "source": [
    "# Phase III: Plotting the SWCC data from Hydrus 1D output."
   ]
  },
  {
   "cell_type": "code",
   "execution_count": 112,
   "metadata": {},
   "outputs": [
    {
     "data": {
      "text/plain": [
       "' ************************************************************************\\n *                                                                      *\\n *                                                                      *\\n *Esperance                                                             *\\n *                                                                      *\\n *                                                                      *\\n ************************************************************************\\n\\n\\n Program parameters\\n ==================\\n Max. iterations.....................(MIT)............... 25\\n No. of observations.................(NOBb)............. 195\\n\\n\\n Soil hydraulic properties\\n =========================\\n Residual moisture content...........(WCR)............     0.120\\n Saturated moisture content..........(WCS)............     0.375\\n First coefficient...................(ALPHA)..........     0.036\\n Second coefficient..................(N)..............     1.560\\n Saturated conductivity..............(CONDS).......... .1000E-04\\n Pore connectivity factor............(L)..............     0.500\\n\\n\\n Soil hydraulic properties\\n =========================\\n Residual moisture content...........(WCR)............     0.070\\n Saturated moisture content..........(WCS)............     0.340\\n First coefficient...................(ALPHA)..........     0.000\\n Second coefficient..................(N)..............     7.000\\n Saturated conductivity..............(CONDS).......... .5800E-07\\n Pore connectivity factor............(L)..............     0.500\\n\\n\\n Observed Quantity \\n ==================\\n    Obs     Time    Quantity     Type  Position   Weight\\n     1     40.000  0.000E+00       0     2      0.243625\\n     2     80.000 -0.597E-03       0     2      0.243625\\n     3    130.000 -0.896E-03       0     2      0.243625\\n     4    180.000 -0.119E-02       0     2      0.243625\\n     5    230.000 -0.149E-02       0     2      0.243625\\n     6    280.000 -0.179E-02       0     2      0.243625\\n     7    331.000 -0.209E-02       0     2      0.243625\\n     8    381.000 -0.209E-02       0     2      0.243625\\n     9    431.000 -0.239E-02       0     2      0.243625\\n    10    481.000 -0.269E-02       0     2      0.243625\\n    11    531.000 -0.299E-02       0     2      0.243625\\n    12    581.000 -0.328E-02       0     2      0.243625\\n    13    631.000 -0.358E-02       0     2      0.243625\\n    14    681.000 -0.388E-02       0     2      0.243625\\n    15    731.000 -0.418E-02       0     2      0.243625\\n    16    781.000 -0.418E-02       0     2      0.243625\\n    17    831.000 -0.448E-02       0     2      0.243625\\n    18    881.000 -0.478E-02       0     2      0.243625\\n    19    932.000 -0.507E-02       0     2      0.243625\\n    20    982.000 -0.537E-02       0     2      0.243625\\n    21   1032.000 -0.567E-02       0     2      0.243625\\n    22   1132.000 -0.597E-02       0     2      0.243625\\n    23   1232.000 -0.657E-02       0     2      0.243625\\n    24   1332.000 -0.716E-02       0     2      0.243625\\n    25   1432.000 -0.746E-02       0     2      0.243625\\n    26   1532.000 -0.806E-02       0     2      0.243625\\n    27   1632.000 -0.836E-02       0     2      0.243625\\n    28   1733.000 -0.896E-02       0     2      0.243625\\n    29   1833.000 -0.925E-02       0     2      0.243625\\n    30   1933.000     -0.010       0     2      0.243625\\n    31   2033.000     -0.010       0     2      0.243625\\n    32   2233.000     -0.011       0     2      0.243625\\n    33   2434.000     -0.012       0     2      0.243625\\n    34   2634.000     -0.013       0     2      0.243625\\n    35   2834.000     -0.014       0     2      0.243625\\n    36   3035.000     -0.014       0     2      0.243625\\n    37   3235.000     -0.015       0     2      0.243625\\n    38   3435.000     -0.016       0     2      0.243625\\n    39   3636.000     -0.016       0     2      0.243625\\n    40   3836.000     -0.017       0     2      0.243625\\n    41   4036.000     -0.018       0     2      0.243625\\n    42   4236.000     -0.018       0     2      0.243625\\n    43   4437.000     -0.019       0     2      0.243625\\n    44   4637.000     -0.019       0     2      0.243625\\n    45   4837.000     -0.019       0     2      0.243625\\n    46   5037.000     -0.020       0     2      0.243625\\n    47   5238.000     -0.020       0     2      0.243625\\n    48   5438.000     -0.021       0     2      0.243625\\n    49   5638.000     -0.021       0     2      0.243625\\n    50   5839.000     -0.022       0     2      0.243625\\n    51   6039.000     -0.022       0     2      0.243625\\n    52   6239.000     -0.022       0     2      0.243625\\n    53   6439.000     -0.023       0     2      0.243625\\n    54   6640.000     -0.023       0     2      0.243625\\n    55   6840.000     -0.023       0     2      0.243625\\n    56   7040.000     -0.023       0     2      0.243625\\n    57   7541.000     -0.024       0     2      0.243625\\n    58   8042.000     -0.024       0     2      0.243625\\n    59   8542.000     -0.025       0     2      0.243625\\n    60   9043.000     -0.025       0     2      0.243625\\n    61   9544.000     -0.026       0     2      0.243625\\n    62  10044.000     -0.026       0     2      0.243625\\n    63  10545.000     -0.026       0     2      0.243625\\n    64  11046.000     -0.026       0     2      0.243625\\n    65  11546.000     -0.026       0     2      0.243625\\n    66  12047.000     -0.027       0     2      0.243625\\n    67  12548.000     -0.027       0     2      0.243625\\n    68  13049.000     -0.027       0     2      0.243625\\n    69  13549.000     -0.027       0     2      0.243625\\n    70  14050.000     -0.027       0     2      0.243625\\n    71  14551.000     -0.027       0     2      0.243625\\n    72  15051.000     -0.027       0     2      0.243625\\n    73  15552.000     -0.027       0     2      0.243625\\n    74  16053.000     -0.027       0     2      0.243625\\n    75  16554.000     -0.027       0     2      0.243625\\n    76  17054.000     -0.027       0     2      0.243625\\n    77  17555.000     -0.027       0     2      0.243625\\n    78  18236.000     -0.027       0     2      0.243625\\n    79  18291.000     -0.032       0     2      0.243625\\n    80  18341.000     -0.051       0     2      0.243625\\n    81  18391.000     -0.071       0     2      0.243625\\n    82  18442.000     -0.090       0     2      0.243625\\n    83  18492.000     -0.110       0     2      0.243625\\n    84  18542.000     -0.128       0     2      0.243625\\n    85  18592.000     -0.147       0     2      0.243625\\n    86  18657.000     -0.171       0     2      0.243625\\n    87  18732.000     -0.198       0     2      0.243625\\n    88  18827.000     -0.231       0     2      0.243625\\n    89  18967.000     -0.276       0     2      0.243625\\n    90  19118.000     -0.317       0     2      0.243625\\n    91  19268.000     -0.351       0     2      0.243625\\n    92  19418.000     -0.377       0     2      0.243625\\n    93  19568.000     -0.399       0     2      0.243625\\n    94  19718.000     -0.417       0     2      0.243625\\n    95  19869.000     -0.433       0     2      0.243625\\n    96  20019.000     -0.448       0     2      0.243625\\n    97  20169.000     -0.460       0     2      0.243625\\n    98  20319.000     -0.471       0     2      0.243625\\n    99  20469.000     -0.482       0     2      0.243625\\n   100  20620.000     -0.491       0     2      0.243625\\n   101  20770.000     -0.500       0     2      0.243625\\n   102  20920.000     -0.507       0     2      0.243625\\n   103  21070.000     -0.515       0     2      0.243625\\n   104  21220.000     -0.521       0     2      0.243625\\n   105  21371.000     -0.527       0     2      0.243625\\n   106  21521.000     -0.533       0     2      0.243625\\n   107  21671.000     -0.538       0     2      0.243625\\n   108  21821.000     -0.543       0     2      0.243625\\n   109  21971.000     -0.548       0     2      0.243625\\n   110  22122.000     -0.552       0     2      0.243625\\n   111  22272.000     -0.556       0     2      0.243625\\n   112  22422.000     -0.561       0     2      0.243625\\n   113  22572.000     -0.564       0     2      0.243625\\n   114  22723.000     -0.568       0     2      0.243625\\n   115  22873.000     -0.571       0     2      0.243625\\n   116  23023.000     -0.574       0     2      0.243625\\n   117  23173.000     -0.577       0     2      0.243625\\n   118  23323.000     -0.580       0     2      0.243625\\n   119  23474.000     -0.583       0     2      0.243625\\n   120  23624.000     -0.586       0     2      0.243625\\n   121  23774.000     -0.588       0     2      0.243625\\n   122  23924.000     -0.591       0     2      0.243625\\n   123  24074.000     -0.593       0     2      0.243625\\n   124  24225.000     -0.596       0     2      0.243625\\n   125  24375.000     -0.598       0     2      0.243625\\n   126  24525.000     -0.600       0     2      0.243625\\n   127  24675.000     -0.602       0     2      0.243625\\n   128  24825.000     -0.605       0     2      0.243625\\n   129  24976.000     -0.607       0     2      0.243625\\n   130  25126.000     -0.608       0     2      0.243625\\n   131  25276.000     -0.610       0     2      0.243625\\n   132  25426.000     -0.612       0     2      0.243625\\n   133  25576.000     -0.613       0     2      0.243625\\n   134  25727.000     -0.615       0     2      0.243625\\n   135  25877.000     -0.617       0     2      0.243625\\n   136  26027.000     -0.619       0     2      0.243625\\n   137  26177.000     -0.620       0     2      0.243625\\n   138  26327.000     -0.622       0     2      0.243625\\n   139  26478.000     -0.623       0     2      0.243625\\n   140  26628.000     -0.624       0     2      0.243625\\n   141  26778.000     -0.626       0     2      0.243625\\n   142  26928.000     -0.627       0     2      0.243625\\n   143  27078.000     -0.628       0     2      0.243625\\n   144  27229.000     -0.630       0     2      0.243625\\n   145  27379.000     -0.631       0     2      0.243625\\n   146  27529.000     -0.632       0     2      0.243625\\n   147  27679.000     -0.633       0     2      0.243625\\n   148  27830.000     -0.634       0     2      0.243625\\n   149  27980.000     -0.635       0     2      0.243625\\n   150  28130.000     -0.636       0     2      0.243625\\n   151  28280.000     -0.638       0     2      0.243625\\n   152  28430.000     -0.639       0     2      0.243625\\n   153  28581.000     -0.640       0     2      0.243625\\n   154  28731.000     -0.641       0     2      0.243625\\n   155  29151.000     -0.644       0     2      0.243625\\n   156  29451.000     -0.645       0     2      0.243625\\n   157  29751.000     -0.647       0     2      0.243625\\n   158  30051.000     -0.649       0     2      0.243625\\n   159  30352.000     -0.650       0     2      0.243625\\n   160  30652.000     -0.652       0     2      0.243625\\n   161  30952.000     -0.654       0     2      0.243625\\n   162  31252.000     -0.655       0     2      0.243625\\n   163  31552.000     -0.656       0     2      0.243625\\n   164  31852.000     -0.658       0     2      0.243625\\n   165  32152.000     -0.660       0     2      0.243625\\n   166  32452.000     -0.661       0     2      0.243625\\n   167  32752.000     -0.662       0     2      0.243625\\n   168  33052.000     -0.663       0     2      0.243625\\n   169  33352.000     -0.665       0     2      0.243625\\n   170  33652.000     -0.666       0     2      0.243625\\n   171  33952.000     -0.667       0     2      0.243625\\n   172  34252.000     -0.668       0     2      0.243625\\n   173  34552.000     -0.669       0     2      0.243625\\n   174  34853.000     -0.670       0     2      0.243625\\n   175  35153.000     -0.671       0     2      0.243625\\n   176  35453.000     -0.672       0     2      0.243625\\n   177  35753.000     -0.673       0     2      0.243625\\n   178  36053.000     -0.674       0     2      0.243625\\n   179  36353.000     -0.675       0     2      0.243625\\n   180  36653.000     -0.676       0     2      0.243625\\n   181  36953.000     -0.677       0     2      0.243625\\n   182  37253.000     -0.678       0     2      0.243625\\n   183  37553.000     -0.679       0     2      0.243625\\n   184  37853.000     -0.679       0     2      0.243625\\n   185  38153.000     -0.680       0     2      0.243625\\n   186  38453.000     -0.681       0     2      0.243625\\n   187  38753.000     -0.682       0     2      0.243625\\n   188  39054.000     -0.682       0     2      0.243625\\n   189  39354.000     -0.683       0     2      0.243625\\n   190  39654.000     -0.684       0     2      0.243625\\n   191  39954.000     -0.685       0     2      0.243625\\n   192  40254.000     -0.685       0     2      0.243625\\n   193  40554.000     -0.686       0     2      0.243625\\n   194  40854.000     -0.687       0     2      0.243625\\n   195  41154.000     -0.687       0     2      0.243625\\n\\n\\n\\n Parameter estimation with the  1. initial estimate\\n ==================================================\\n\\n Iteration     SSQ         WCR         ALPHA       N           CONDS \\n      0   0.9518D+00  0.1200E+00  0.3600E-01  0.1560E+01  0.1000E-04\\n      1   0.2559D+00  0.1461E+00  0.4525E-01  0.3500E+01  0.4012E-04\\n      2   0.3339D-01  0.1461E+00  0.1000E-02  0.3500E+01  0.9503E-04\\n      3   0.2278D-01  0.1461E+00  0.1012E-02  0.3500E+01  0.5544E-04\\n      4   0.4654D-02  0.1461E+00  0.1095E-02  0.3295E+01  0.1142E-04\\n      5   0.2320D-02  0.1327E+00  0.1405E-02  0.2668E+01  0.1381E-04\\n      6   0.1597D-02  0.1306E+00  0.1623E-02  0.2483E+01  0.1783E-04\\n      7   0.1506D-02  0.1271E+00  0.1888E-02  0.2220E+01  0.2316E-04\\n      8   0.1244D-02  0.1247E+00  0.1943E-02  0.2193E+01  0.2475E-04\\n      9   0.1200D-02  0.1235E+00  0.2008E-02  0.2149E+01  0.2600E-04\\n     10   0.1153D-02  0.1221E+00  0.2074E-02  0.2105E+01  0.2727E-04\\n     11   0.1104D-02  0.1205E+00  0.2129E-02  0.2060E+01  0.2857E-04\\n     12   0.1051D-02  0.1184E+00  0.2189E-02  0.2011E+01  0.2995E-04\\n     13   0.9944D-03  0.1162E+00  0.2255E-02  0.1966E+01  0.3142E-04\\n     14   0.9418D-03  0.1139E+00  0.2309E-02  0.1924E+01  0.3290E-04\\n     15   0.8879D-03  0.1119E+00  0.2397E-02  0.1890E+01  0.3447E-04\\n     16   0.8407D-03  0.1101E+00  0.2438E-02  0.1861E+01  0.3606E-04\\n     17   0.7964D-03  0.1080E+00  0.2483E-02  0.1828E+01  0.3754E-04\\n     18   0.7557D-03  0.1059E+00  0.2528E-02  0.1801E+01  0.3895E-04\\n     19   0.7200D-03  0.1039E+00  0.2570E-02  0.1778E+01  0.4030E-04\\n     20   0.6885D-03  0.1022E+00  0.2610E-02  0.1758E+01  0.4160E-04\\n     21   0.6601D-03  0.1006E+00  0.2646E-02  0.1740E+01  0.4285E-04\\n     22   0.6572D-03  0.1004E+00  0.2649E-02  0.1739E+01  0.4297E-04\\n\\n\\n Mass balance error in FE solution during final run was  0.0003 %\\n\\n\\n Correlation matrix\\n ==================\\n         1          2          3          4\\n   1   1.0000\\n   2   0.5494     1.0000\\n   3   0.9748     0.3839     1.0000\\n   4  -0.0550     0.7123    -0.2712     1.0000\\n\\n Non-linear least-squares analysis: final results\\n ================================================\\n                                           95% Confidence limits\\n Variable        Value        S.E.Coeff.     Lower         Upper\\n   WCR      0.10040E+00    0.89899E-02  0.82668E-01  0.11813E+00\\n   ALPHA    0.26489E-02    0.16205E-03  0.23293E-02  0.29686E-02\\n   N        0.17391E+01    0.70595E-01  0.15998E+01  0.18783E+01\\n   CONDS    0.42972E-04    0.33369E-05  0.36390E-04  0.49554E-04\\n\\n\\n Contributions to the final objective function\\n\\n Measurement Set   0:   0.6572E-03\\n\\n RSQUARE for regression of predicted vs observed =0.99965\\n\\n Mean Weighted Error, ME               : -0.8350E-03\\n Mean Weighted Absolute Error, MAE     :  0.1204E-02\\n Root Mean Square Weighted Error, RMSE :  0.1841E-02\\n\\n\\n Akaike Information Criterion, AIC     : -0.2448E+04\\n Bayesian Information Criterion, BIC   : -0.2435E+04\\n\\n\\n\\n------------Observed & Fitted Quantity -----------------------------\\n                                                   Resi-\\n    No     Time           Obs        Fitted        dual   Type  Position\\n    1     40.000   0.00000E+00 -0.23656E-03  0.23656E-03     0     2\\n    2     80.000  -0.59706E-03 -0.45305E-03 -0.14401E-03     0     2\\n    3    130.000  -0.89559E-03 -0.70485E-03 -0.19073E-03     0     2\\n    4    180.000  -0.11941E-02 -0.94262E-03 -0.25150E-03     0     2\\n    5    230.000  -0.14926E-02 -0.11656E-02 -0.32700E-03     0     2\\n    6    280.000  -0.17912E-02 -0.13785E-02 -0.41269E-03     0     2\\n    7    331.000  -0.20897E-02 -0.15861E-02 -0.50359E-03     0     2\\n    8    381.000  -0.20897E-02 -0.17814E-02 -0.30830E-03     0     2\\n    9    431.000  -0.23882E-02 -0.19690E-02 -0.41927E-03     0     2\\n   10    481.000  -0.26868E-02 -0.21495E-02 -0.53728E-03     0     2\\n   11    531.000  -0.29853E-02 -0.23235E-02 -0.66179E-03     0     2\\n   12    581.000  -0.32838E-02 -0.24915E-02 -0.79229E-03     0     2\\n   13    631.000  -0.35823E-02 -0.26538E-02 -0.92855E-03     0     2\\n   14    681.000  -0.38809E-02 -0.28105E-02 -0.10704E-02     0     2\\n   15    731.000  -0.41794E-02 -0.29620E-02 -0.12174E-02     0     2\\n   16    781.000  -0.41794E-02 -0.31086E-02 -0.10708E-02     0     2\\n   17    831.000  -0.44779E-02 -0.32505E-02 -0.12274E-02     0     2\\n   18    881.000  -0.47765E-02 -0.33882E-02 -0.13883E-02     0     2\\n   19    932.000  -0.50750E-02 -0.35244E-02 -0.15506E-02     0     2\\n   20    982.000  -0.53735E-02 -0.36540E-02 -0.17195E-02     0     2\\n   21   1032.000  -0.56721E-02 -0.37799E-02 -0.18922E-02     0     2\\n   22   1132.000  -0.59706E-02 -0.40207E-02 -0.19498E-02     0     2\\n   23   1232.000  -0.65676E-02 -0.42447E-02 -0.23230E-02     0     2\\n   24   1332.000  -0.71647E-02 -0.44561E-02 -0.27086E-02     0     2\\n   25   1432.000  -0.74632E-02 -0.46563E-02 -0.28070E-02     0     2\\n   26   1532.000  -0.80603E-02 -0.48460E-02 -0.32143E-02     0     2\\n   27   1632.000  -0.83588E-02 -0.50262E-02 -0.33326E-02     0     2\\n   28   1733.000  -0.89559E-02 -0.51992E-02 -0.37566E-02     0     2\\n   29   1833.000  -0.92544E-02 -0.53623E-02 -0.38921E-02     0     2\\n   30   1933.000  -0.10150E-01 -0.55175E-02 -0.46325E-02     0     2\\n   31   2033.000  -0.10448E-01 -0.56651E-02 -0.47834E-02     0     2\\n   32   2233.000  -0.11344E-01 -0.59394E-02 -0.54047E-02     0     2\\n   33   2434.000  -0.11941E-01 -0.61835E-02 -0.57577E-02     0     2\\n   34   2634.000  -0.12837E-01 -0.64040E-02 -0.64327E-02     0     2\\n   35   2834.000  -0.13732E-01 -0.66042E-02 -0.71281E-02     0     2\\n   36   3035.000  -0.14329E-01 -0.67873E-02 -0.75421E-02     0     2\\n   37   3235.000  -0.14926E-01 -0.69535E-02 -0.79729E-02     0     2\\n   38   3435.000  -0.15822E-01 -0.71055E-02 -0.87165E-02     0     2\\n   39   3636.000  -0.16419E-01 -0.72455E-02 -0.91736E-02     0     2\\n   40   3836.000  -0.17016E-01 -0.73732E-02 -0.96430E-02     0     2\\n   41   4036.000  -0.17613E-01 -0.74906E-02 -0.10123E-01     0     2\\n   42   4236.000  -0.17912E-01 -0.75986E-02 -0.10313E-01     0     2\\n   43   4437.000  -0.18509E-01 -0.76985E-02 -0.10810E-01     0     2\\n   44   4637.000  -0.19106E-01 -0.77900E-02 -0.11316E-01     0     2\\n   45   4837.000  -0.19404E-01 -0.78742E-02 -0.11530E-01     0     2\\n   46   5037.000  -0.20001E-01 -0.79517E-02 -0.12050E-01     0     2\\n   47   5238.000  -0.20300E-01 -0.80234E-02 -0.12277E-01     0     2\\n   48   5438.000  -0.20897E-01 -0.80891E-02 -0.12808E-01     0     2\\n   49   5638.000  -0.21196E-01 -0.81495E-02 -0.13046E-01     0     2\\n   50   5839.000  -0.21793E-01 -0.82054E-02 -0.13587E-01     0     2\\n   51   6039.000  -0.22091E-01 -0.82566E-02 -0.13834E-01     0     2\\n   52   6239.000  -0.22390E-01 -0.83037E-02 -0.14086E-01     0     2\\n   53   6439.000  -0.22688E-01 -0.83471E-02 -0.14341E-01     0     2\\n   54   6640.000  -0.22987E-01 -0.83872E-02 -0.14599E-01     0     2\\n   55   6840.000  -0.23285E-01 -0.84240E-02 -0.14861E-01     0     2\\n   56   7040.000  -0.23285E-01 -0.84578E-02 -0.14828E-01     0     2\\n   57   7541.000  -0.23882E-01 -0.85305E-02 -0.15352E-01     0     2\\n   58   8042.000  -0.24479E-01 -0.85897E-02 -0.15890E-01     0     2\\n   59   8542.000  -0.24778E-01 -0.86379E-02 -0.16140E-01     0     2\\n   60   9043.000  -0.25076E-01 -0.86772E-02 -0.16399E-01     0     2\\n   61   9544.000  -0.25673E-01 -0.87092E-02 -0.16964E-01     0     2\\n   62  10044.000  -0.25972E-01 -0.87352E-02 -0.17237E-01     0     2\\n   63  10545.000  -0.25972E-01 -0.87564E-02 -0.17216E-01     0     2\\n   64  11046.000  -0.26270E-01 -0.87737E-02 -0.17497E-01     0     2\\n   65  11546.000  -0.26270E-01 -0.87877E-02 -0.17483E-01     0     2\\n   66  12047.000  -0.26569E-01 -0.87992E-02 -0.17770E-01     0     2\\n   67  12548.000  -0.26569E-01 -0.88086E-02 -0.17761E-01     0     2\\n   68  13049.000  -0.26569E-01 -0.88161E-02 -0.17753E-01     0     2\\n   69  13549.000  -0.26868E-01 -0.88223E-02 -0.18045E-01     0     2\\n   70  14050.000  -0.27166E-01 -0.88274E-02 -0.18339E-01     0     2\\n   71  14551.000  -0.27166E-01 -0.88314E-02 -0.18335E-01     0     2\\n   72  15051.000  -0.26868E-01 -0.88347E-02 -0.18033E-01     0     2\\n   73  15552.000  -0.26868E-01 -0.88374E-02 -0.18030E-01     0     2\\n   74  16053.000  -0.26868E-01 -0.88396E-02 -0.18028E-01     0     2\\n   75  16554.000  -0.26868E-01 -0.88414E-02 -0.18026E-01     0     2\\n   76  17054.000  -0.27166E-01 -0.88428E-02 -0.18323E-01     0     2\\n   77  17555.000  -0.27166E-01 -0.88440E-02 -0.18322E-01     0     2\\n   78  18236.000  -0.27166E-01 -0.88452E-02 -0.18321E-01     0     2\\n   79  18291.000      -0.03194     -0.03266      0.00072     0     2\\n   80  18341.000      -0.05135     -0.05384      0.00249     0     2\\n   81  18391.000      -0.07075     -0.07469      0.00394     0     2\\n   82  18442.000      -0.08986     -0.09565      0.00580     0     2\\n   83  18492.000      -0.10956     -0.11582      0.00626     0     2\\n   84  18542.000      -0.12837     -0.13568      0.00731     0     2\\n   85  18592.000      -0.14747     -0.15519      0.00772     0     2\\n   86  18657.000      -0.17076     -0.17994      0.00918     0     2\\n   87  18732.000      -0.19822     -0.20752      0.00930     0     2\\n   88  18827.000      -0.23106     -0.24056      0.00950     0     2\\n   89  18967.000      -0.27614     -0.28389      0.00775     0     2\\n   90  19118.000      -0.31734     -0.32279      0.00545     0     2\\n   91  19268.000      -0.35077     -0.35394      0.00317     0     2\\n   92  19418.000      -0.37734     -0.37905      0.00171     0     2\\n   93  19568.000      -0.39913     -0.39983      0.00070     0     2\\n   94  19718.000      -0.41734     -0.41752      0.00017     0     2\\n   95  19869.000      -0.43346     -0.43283     -0.00063     0     2\\n   96  20019.000      -0.44779     -0.44632     -0.00147     0     2\\n   97  20169.000      -0.46003     -0.45830     -0.00173     0     2\\n   98  20319.000      -0.47138     -0.46909     -0.00229     0     2\\n   99  20469.000      -0.48153     -0.47886     -0.00267     0     2\\n  100  20620.000      -0.49078     -0.48782     -0.00296     0     2\\n  101  20770.000      -0.49974     -0.49602     -0.00372     0     2\\n  102  20920.000      -0.50750     -0.50356     -0.00394     0     2\\n  103  21070.000      -0.51466     -0.51055     -0.00411     0     2\\n  104  21220.000      -0.52123     -0.51706     -0.00417     0     2\\n  105  21371.000      -0.52720     -0.52318     -0.00402     0     2\\n  106  21521.000      -0.53287     -0.52888     -0.00400     0     2\\n  107  21671.000      -0.53825     -0.53422     -0.00403     0     2\\n  108  21821.000      -0.54332     -0.53926     -0.00407     0     2\\n  109  21971.000      -0.54810     -0.54402     -0.00408     0     2\\n  110  22122.000      -0.55228     -0.54855     -0.00372     0     2\\n  111  22272.000      -0.55646     -0.55283     -0.00363     0     2\\n  112  22422.000      -0.56064     -0.55689     -0.00374     0     2\\n  113  22572.000      -0.56422     -0.56076     -0.00346     0     2\\n  114  22723.000      -0.56780     -0.56447     -0.00334     0     2\\n  115  22873.000      -0.57109     -0.56798     -0.00310     0     2\\n  116  23023.000      -0.57437     -0.57135     -0.00302     0     2\\n  117  23173.000      -0.57736     -0.57457     -0.00279     0     2\\n  118  23323.000      -0.58034     -0.57765     -0.00269     0     2\\n  119  23474.000      -0.58333     -0.58063     -0.00270     0     2\\n  120  23624.000      -0.58601     -0.58347     -0.00254     0     2\\n  121  23774.000      -0.58840     -0.58621     -0.00220     0     2\\n  122  23924.000      -0.59109     -0.58884     -0.00225     0     2\\n  123  24074.000      -0.59348     -0.59138     -0.00210     0     2\\n  124  24225.000      -0.59557     -0.59384     -0.00172     0     2\\n  125  24375.000      -0.59795     -0.59620     -0.00175     0     2\\n  126  24525.000      -0.60034     -0.59849     -0.00186     0     2\\n  127  24675.000      -0.60243     -0.60069     -0.00174     0     2\\n  128  24825.000      -0.60452     -0.60283     -0.00169     0     2\\n  129  24976.000      -0.60661     -0.60491     -0.00170     0     2\\n  130  25126.000      -0.60810     -0.60692     -0.00119     0     2\\n  131  25276.000      -0.61019     -0.60886     -0.00133     0     2\\n  132  25426.000      -0.61198     -0.61074     -0.00124     0     2\\n  133  25576.000      -0.61348     -0.61257     -0.00091     0     2\\n  134  25727.000      -0.61527     -0.61436     -0.00091     0     2\\n  135  25877.000      -0.61676     -0.61608     -0.00068     0     2\\n  136  26027.000      -0.61855     -0.61776     -0.00080     0     2\\n  137  26177.000      -0.62005     -0.61938     -0.00066     0     2\\n  138  26327.000      -0.62154     -0.62097     -0.00057     0     2\\n  139  26478.000      -0.62273     -0.62252     -0.00021     0     2\\n  140  26628.000      -0.62422     -0.62402     -0.00020     0     2\\n  141  26778.000      -0.62572     -0.62548     -0.00023     0     2\\n  142  26928.000      -0.62691     -0.62691      0.00000     0     2\\n  143  27078.000      -0.62840     -0.62830     -0.00010     0     2\\n  144  27229.000      -0.62960     -0.62966      0.00006     0     2\\n  145  27379.000      -0.63079     -0.63098      0.00019     0     2\\n  146  27529.000      -0.63199     -0.63228      0.00030     0     2\\n  147  27679.000      -0.63288     -0.63354      0.00066     0     2\\n  148  27830.000      -0.63408     -0.63478      0.00071     0     2\\n  149  27980.000      -0.63527     -0.63599      0.00072     0     2\\n  150  28130.000      -0.63646     -0.63716      0.00070     0     2\\n  151  28280.000      -0.63796     -0.63831      0.00036     0     2\\n  152  28430.000      -0.63885     -0.63944      0.00058     0     2\\n  153  28581.000      -0.64005     -0.64055      0.00050     0     2\\n  154  28731.000      -0.64094     -0.64162      0.00068     0     2\\n  155  29151.000      -0.64363     -0.64451      0.00088     0     2\\n  156  29451.000      -0.64542     -0.64646      0.00104     0     2\\n  157  29751.000      -0.64721     -0.64833      0.00112     0     2\\n  158  30051.000      -0.64900     -0.65013      0.00113     0     2\\n  159  30352.000      -0.65049     -0.65189      0.00139     0     2\\n  160  30652.000      -0.65199     -0.65356      0.00157     0     2\\n  161  30952.000      -0.65378     -0.65516      0.00139     0     2\\n  162  31252.000      -0.65527     -0.65671      0.00144     0     2\\n  163  31552.000      -0.65646     -0.65821      0.00174     0     2\\n  164  31852.000      -0.65796     -0.65965      0.00169     0     2\\n  165  32152.000      -0.65975     -0.66105      0.00130     0     2\\n  166  32452.000      -0.66094     -0.66239      0.00145     0     2\\n  167  32752.000      -0.66214     -0.66370      0.00156     0     2\\n  168  33052.000      -0.66333     -0.66496      0.00163     0     2\\n  169  33352.000      -0.66453     -0.66618      0.00166     0     2\\n  170  33652.000      -0.66572     -0.66737      0.00165     0     2\\n  171  33952.000      -0.66691     -0.66852      0.00160     0     2\\n  172  34252.000      -0.66781     -0.66963      0.00182     0     2\\n  173  34552.000      -0.66900     -0.67072      0.00171     0     2\\n  174  34853.000      -0.66990     -0.67178      0.00188     0     2\\n  175  35153.000      -0.67109     -0.67280      0.00171     0     2\\n  176  35453.000      -0.67199     -0.67379      0.00180     0     2\\n  177  35753.000      -0.67318     -0.67476      0.00157     0     2\\n  178  36053.000      -0.67408     -0.67570      0.00162     0     2\\n  179  36353.000      -0.67497     -0.67661      0.00163     0     2\\n  180  36653.000      -0.67587     -0.67750      0.00163     0     2\\n  181  36953.000      -0.67677     -0.67836      0.00160     0     2\\n  182  37253.000      -0.67766     -0.67921      0.00154     0     2\\n  183  37553.000      -0.67856     -0.68003      0.00147     0     2\\n  184  37853.000      -0.67915     -0.68083      0.00167     0     2\\n  185  38153.000      -0.68005     -0.68160      0.00155     0     2\\n  186  38453.000      -0.68094     -0.68236      0.00142     0     2\\n  187  38753.000      -0.68154     -0.68310      0.00156     0     2\\n  188  39054.000      -0.68244     -0.68383      0.00139     0     2\\n  189  39354.000      -0.68303     -0.68453      0.00150     0     2\\n  190  39654.000      -0.68393     -0.68522      0.00129     0     2\\n  191  39954.000      -0.68453     -0.68588      0.00136     0     2\\n  192  40254.000      -0.68512     -0.68654      0.00141     0     2\\n  193  40554.000      -0.68602     -0.68717      0.00115     0     2\\n  194  40854.000      -0.68662     -0.68779      0.00118     0     2\\n  195  41154.000      -0.68721     -0.68840      0.00118     0     2\\n\\n\\n  Pressure    Log P      WC       Rel K     Log RK   Abs K    Log KA     Diffus     Log D\\n 0.000E+00            0.3748    0.100E+01            0.430E-04\\n 0.141E+01   0.150    0.3748    0.968E+00  -0.014    0.416E-04  -4.381    0.482E+01   0.683\\n 0.168E+01   0.225    0.3748    0.964E+00  -0.016    0.414E-04  -4.383    0.422E+01   0.625\\n 0.200E+01   0.300    0.3748    0.959E+00  -0.018    0.412E-04  -4.385    0.370E+01   0.568\\n 0.237E+01   0.375    0.3748    0.953E+00  -0.021    0.410E-04  -4.388    0.323E+01   0.510\\n 0.282E+01   0.450    0.3748    0.947E+00  -0.024    0.407E-04  -4.390    0.283E+01   0.452\\n 0.335E+01   0.525    0.3748    0.940E+00  -0.027    0.404E-04  -4.394    0.247E+01   0.393\\n 0.398E+01   0.600    0.3748    0.932E+00  -0.031    0.400E-04  -4.397    0.216E+01   0.334\\n 0.473E+01   0.675    0.3747    0.923E+00  -0.035    0.397E-04  -4.402    0.188E+01   0.274\\n 0.562E+01   0.750    0.3747    0.913E+00  -0.040    0.392E-04  -4.407    0.164E+01   0.214\\n 0.668E+01   0.825    0.3747    0.901E+00  -0.045    0.387E-04  -4.412    0.142E+01   0.153\\n 0.794E+01   0.900    0.3747    0.888E+00  -0.052    0.382E-04  -4.418    0.123E+01   0.092\\n 0.944E+01   0.975    0.3746    0.873E+00  -0.059    0.375E-04  -4.426    0.107E+01   0.029\\n 0.112E+02   1.050    0.3745    0.856E+00  -0.067    0.368E-04  -4.434    0.924E+00  -0.034\\n 0.133E+02   1.125    0.3745    0.838E+00  -0.077    0.360E-04  -4.444    0.796E+00  -0.099\\n 0.158E+02   1.200    0.3743    0.817E+00  -0.088    0.351E-04  -4.455    0.684E+00  -0.165\\n 0.188E+02   1.275    0.3742    0.793E+00  -0.101    0.341E-04  -4.467    0.586E+00  -0.232\\n 0.224E+02   1.350    0.3739    0.767E+00  -0.115    0.330E-04  -4.482    0.500E+00  -0.301\\n 0.266E+02   1.425    0.3737    0.738E+00  -0.132    0.317E-04  -4.499    0.425E+00  -0.372\\n 0.316E+02   1.500    0.3733    0.705E+00  -0.152    0.303E-04  -4.519    0.359E+00  -0.444\\n 0.376E+02   1.575    0.3727    0.669E+00  -0.174    0.288E-04  -4.541    0.302E+00  -0.520\\n 0.447E+02   1.650    0.3720    0.630E+00  -0.201    0.271E-04  -4.568    0.252E+00  -0.598\\n 0.531E+02   1.725    0.3710    0.587E+00  -0.232    0.252E-04  -4.598    0.210E+00  -0.679\\n 0.631E+02   1.800    0.3698    0.540E+00  -0.268    0.232E-04  -4.634    0.172E+00  -0.763\\n 0.750E+02   1.875    0.3681    0.490E+00  -0.310    0.211E-04  -4.676    0.141E+00  -0.852\\n 0.891E+02   1.950    0.3658    0.438E+00  -0.359    0.188E-04  -4.726    0.114E+00  -0.944\\n 0.106E+03   2.025    0.3629    0.383E+00  -0.416    0.165E-04  -4.783    0.910E-01  -1.041\\n 0.126E+03   2.100    0.3592    0.328E+00  -0.484    0.141E-04  -4.851    0.719E-01  -1.143\\n 0.150E+03   2.175    0.3543    0.273E+00  -0.563    0.117E-04  -4.930    0.562E-01  -1.250\\n 0.178E+03   2.250    0.3483    0.221E+00  -0.656    0.949E-05  -5.023    0.433E-01  -1.363\\n 0.211E+03   2.325    0.3408    0.173E+00  -0.763    0.741E-05  -5.130    0.330E-01  -1.482\\n 0.251E+03   2.400    0.3319    0.130E+00  -0.887    0.557E-05  -5.254    0.248E-01  -1.605\\n 0.299E+03   2.475    0.3214    0.936E-01  -1.029    0.402E-05  -5.395    0.184E-01  -1.735\\n 0.355E+03   2.550    0.3094    0.648E-01  -1.188    0.278E-05  -5.555    0.135E-01  -1.869\\n 0.422E+03   2.625    0.2962    0.430E-01  -1.367    0.185E-05  -5.733    0.982E-02  -2.008\\n 0.501E+03   2.700    0.2821    0.274E-01  -1.563    0.118E-05  -5.929    0.707E-02  -2.150\\n 0.596E+03   2.775    0.2676    0.168E-01  -1.775    0.722E-06  -6.142    0.505E-02  -2.296\\n 0.708E+03   2.850    0.2529    0.996E-02  -2.002    0.428E-06  -6.369    0.359E-02  -2.445\\n 0.841E+03   2.925    0.2385    0.573E-02  -2.241    0.246E-06  -6.608    0.254E-02  -2.596\\n 0.100E+04   3.000    0.2247    0.322E-02  -2.492    0.138E-06  -6.859    0.178E-02  -2.749\\n 0.119E+04   3.075    0.2118    0.178E-02  -2.751    0.763E-07  -7.118    0.125E-02  -2.903\\n 0.141E+04   3.150    0.1997    0.962E-03  -3.017    0.414E-07  -7.383    0.876E-03  -3.058\\n 0.168E+04   3.225    0.1887    0.515E-03  -3.288    0.221E-07  -7.655    0.612E-03  -3.213\\n 0.200E+04   3.300    0.1788    0.273E-03  -3.564    0.117E-07  -7.930    0.427E-03  -3.370\\n 0.237E+04   3.375    0.1698    0.144E-03  -3.842    0.618E-08  -8.209    0.297E-03  -3.527\\n 0.282E+04   3.450    0.1617    0.752E-04  -4.124    0.323E-08  -8.490    0.207E-03  -3.684\\n 0.335E+04   3.525    0.1546    0.392E-04  -4.407    0.168E-08  -8.774    0.144E-03  -3.841\\n 0.398E+04   3.600    0.1482    0.204E-04  -4.691    0.875E-09  -9.058    0.100E-03  -3.999\\n 0.473E+04   3.675    0.1425    0.105E-04  -4.977    0.453E-09  -9.344    0.697E-04  -4.157\\n 0.562E+04   3.750    0.1375    0.546E-05  -5.263    0.234E-09  -9.630    0.485E-04  -4.314\\n 0.668E+04   3.825    0.1331    0.282E-05  -5.550    0.121E-09  -9.917    0.337E-04  -4.472\\n 0.794E+04   3.900    0.1292    0.145E-05  -5.837    0.625E-10 -10.204    0.234E-04  -4.630\\n 0.944E+04   3.975    0.1258    0.750E-06  -6.125    0.322E-10 -10.492    0.163E-04  -4.788\\n 0.112E+05   4.050    0.1227    0.386E-06  -6.413    0.166E-10 -10.780    0.113E-04  -4.946\\n 0.133E+05   4.125    0.1201    0.199E-06  -6.701    0.855E-11 -11.068    0.786E-05  -5.105\\n 0.158E+05   4.200    0.1177    0.103E-06  -6.989    0.441E-11 -11.356    0.546E-05  -5.263\\n 0.188E+05   4.275    0.1156    0.528E-07  -7.278    0.227E-11 -11.645    0.379E-05  -5.421\\n 0.224E+05   4.350    0.1138    0.272E-07  -7.566    0.117E-11 -11.933    0.264E-05  -5.579\\n 0.266E+05   4.425    0.1122    0.140E-07  -7.854    0.601E-12 -12.221    0.183E-05  -5.737\\n 0.316E+05   4.500    0.1108    0.720E-08  -8.143    0.309E-12 -12.510    0.127E-05  -5.895\\n 0.376E+05   4.575    0.1096    0.370E-08  -8.431    0.159E-12 -12.798    0.884E-06  -6.053\\n 0.447E+05   4.650    0.1085    0.191E-08  -8.720    0.819E-13 -13.087    0.615E-06  -6.211\\n 0.531E+05   4.725    0.1075    0.981E-09  -9.008    0.422E-13 -13.375    0.427E-06  -6.370\\n 0.631E+05   4.800    0.1066    0.505E-09  -9.297    0.217E-13 -13.664    0.297E-06  -6.528\\n 0.750E+05   4.875    0.1059    0.260E-09  -9.585    0.112E-13 -13.952    0.206E-06  -6.686\\n 0.891E+05   4.950    0.1052    0.134E-09  -9.874    0.574E-14 -14.241    0.143E-06  -6.844\\n 0.106E+06   5.025    0.1047    0.688E-10 -10.162    0.296E-14 -14.529    0.995E-07  -7.002\\n 0.126E+06   5.100    0.1041    0.354E-10 -10.451    0.152E-14 -14.818    0.691E-07  -7.160\\n 0.150E+06   5.175    0.1037    0.182E-10 -10.740    0.783E-15 -15.106    0.480E-07  -7.318\\n 0.178E+06   5.250    0.1033    0.937E-11 -11.028    0.403E-15 -15.395    0.334E-07  -7.477\\n 0.211E+06   5.325    0.1030    0.482E-11 -11.317    0.207E-15 -15.684    0.232E-07  -7.635\\n 0.251E+06   5.400    0.1026    0.248E-11 -11.605    0.107E-15 -15.972    0.161E-07  -7.793\\n 0.298E+06   5.475    0.1024    0.128E-11 -11.894    0.549E-16 -16.261    0.112E-07  -7.951\\n 0.355E+06   5.550    0.1021    0.657E-12 -12.182    0.282E-16 -16.549    0.778E-08  -8.109\\n 0.422E+06   5.625    0.1019    0.338E-12 -12.471    0.145E-16 -16.838    0.540E-08  -8.267\\n 0.501E+06   5.700    0.1018    0.174E-12 -12.760    0.748E-17 -17.126    0.376E-08  -8.425\\n\\n\\n  Pressure    Log P      WC       Rel K     Log RK   Abs K    Log KA     Diffus     Log D\\n 0.000E+00            0.3400    0.100E+01            0.580E-07\\n 0.141E+01   0.150    0.3400    0.100E+01   0.000    0.580E-07  -7.237    0.580E+13  12.763\\n 0.168E+01   0.225    0.3400    0.100E+01   0.000    0.580E-07  -7.237    0.580E+13  12.763\\n 0.200E+01   0.300    0.3400    0.100E+01   0.000    0.580E-07  -7.237    0.580E+13  12.763\\n 0.237E+01   0.375    0.3400    0.100E+01   0.000    0.580E-07  -7.237    0.580E+13  12.763\\n 0.282E+01   0.450    0.3400    0.100E+01   0.000    0.580E-07  -7.237    0.580E+13  12.763\\n 0.335E+01   0.525    0.3400    0.100E+01   0.000    0.580E-07  -7.237    0.580E+13  12.763\\n 0.398E+01   0.600    0.3400    0.100E+01   0.000    0.580E-07  -7.237    0.580E+13  12.763\\n 0.473E+01   0.675    0.3400    0.100E+01   0.000    0.580E-07  -7.237    0.580E+13  12.763\\n 0.562E+01   0.750    0.3400    0.100E+01   0.000    0.580E-07  -7.237    0.580E+13  12.763\\n 0.668E+01   0.825    0.3400    0.100E+01   0.000    0.580E-07  -7.237    0.580E+13  12.763\\n 0.794E+01   0.900    0.3400    0.100E+01   0.000    0.580E-07  -7.237    0.580E+13  12.763\\n 0.944E+01   0.975    0.3400    0.100E+01   0.000    0.580E-07  -7.237    0.580E+13  12.763\\n 0.112E+02   1.050    0.3400    0.100E+01   0.000    0.580E-07  -7.237    0.580E+13  12.763\\n 0.133E+02   1.125    0.3400    0.100E+01   0.000    0.580E-07  -7.237    0.373E+13  12.571\\n 0.158E+02   1.200    0.3400    0.100E+01   0.000    0.580E-07  -7.237    0.132E+13  12.121\\n 0.188E+02   1.275    0.3400    0.100E+01   0.000    0.580E-07  -7.237    0.469E+12  11.671\\n 0.224E+02   1.350    0.3400    0.100E+01   0.000    0.580E-07  -7.237    0.166E+12  11.221\\n 0.266E+02   1.425    0.3400    0.100E+01   0.000    0.580E-07  -7.237    0.591E+11  10.771\\n 0.316E+02   1.500    0.3400    0.100E+01   0.000    0.580E-07  -7.237    0.210E+11  10.321\\n 0.376E+02   1.575    0.3400    0.100E+01   0.000    0.580E-07  -7.237    0.744E+10   9.871\\n 0.447E+02   1.650    0.3400    0.100E+01   0.000    0.580E-07  -7.237    0.264E+10   9.421\\n 0.531E+02   1.725    0.3400    0.100E+01   0.000    0.580E-07  -7.237    0.936E+09   8.971\\n 0.631E+02   1.800    0.3400    0.100E+01   0.000    0.580E-07  -7.237    0.332E+09   8.521\\n 0.750E+02   1.875    0.3400    0.100E+01   0.000    0.580E-07  -7.237    0.118E+09   8.071\\n 0.891E+02   1.950    0.3400    0.100E+01   0.000    0.580E-07  -7.237    0.418E+08   7.621\\n 0.106E+03   2.025    0.3400    0.100E+01   0.000    0.580E-07  -7.237    0.148E+08   7.171\\n 0.126E+03   2.100    0.3400    0.100E+01   0.000    0.580E-07  -7.237    0.527E+07   6.721\\n 0.150E+03   2.175    0.3400    0.100E+01   0.000    0.580E-07  -7.237    0.187E+07   6.271\\n 0.178E+03   2.250    0.3400    0.100E+01   0.000    0.580E-07  -7.237    0.663E+06   5.821\\n 0.211E+03   2.325    0.3400    0.100E+01   0.000    0.580E-07  -7.237    0.235E+06   5.371\\n 0.251E+03   2.400    0.3400    0.100E+01   0.000    0.580E-07  -7.237    0.835E+05   4.921\\n 0.299E+03   2.475    0.3400    0.100E+01   0.000    0.580E-07  -7.237    0.296E+05   4.471\\n 0.355E+03   2.550    0.3400    0.100E+01   0.000    0.580E-07  -7.237    0.105E+05   4.021\\n 0.422E+03   2.625    0.3400    0.100E+01   0.000    0.580E-07  -7.237    0.373E+04   3.571\\n 0.501E+03   2.700    0.3400    0.100E+01   0.000    0.580E-07  -7.237    0.132E+04   3.121\\n 0.596E+03   2.775    0.3400    0.100E+01   0.000    0.580E-07  -7.237    0.469E+03   2.671\\n 0.708E+03   2.850    0.3400    0.100E+01   0.000    0.580E-07  -7.237    0.167E+03   2.221\\n 0.841E+03   2.925    0.3400    0.100E+01   0.000    0.580E-07  -7.237    0.591E+02   1.771\\n 0.100E+04   3.000    0.3400    0.100E+01   0.000    0.580E-07  -7.237    0.210E+02   1.321\\n 0.119E+04   3.075    0.3400    0.100E+01   0.000    0.580E-07  -7.237    0.744E+01   0.871\\n 0.141E+04   3.150    0.3400    0.100E+01   0.000    0.580E-07  -7.237    0.264E+01   0.421\\n 0.168E+04   3.225    0.3400    0.999E+00   0.000    0.580E-07  -7.237    0.936E+00  -0.029\\n 0.200E+04   3.300    0.3400    0.998E+00  -0.001    0.579E-07  -7.237    0.332E+00  -0.479\\n 0.237E+04   3.375    0.3398    0.996E+00  -0.002    0.577E-07  -7.238    0.118E+00  -0.930\\n 0.282E+04   3.450    0.3394    0.988E+00  -0.005    0.573E-07  -7.242    0.415E-01  -1.382\\n 0.335E+04   3.525    0.3381    0.965E+00  -0.015    0.560E-07  -7.252    0.145E-01  -1.837\\n 0.398E+04   3.600    0.3339    0.903E+00  -0.044    0.524E-07  -7.281    0.500E-02  -2.301\\n 0.473E+04   3.675    0.3206    0.749E+00  -0.126    0.434E-07  -7.362    0.164E-02  -2.784\\n 0.562E+04   3.750    0.2851    0.454E+00  -0.343    0.263E-07  -7.580    0.493E-03  -3.308\\n 0.668E+04   3.825    0.2180    0.146E+00  -0.836    0.846E-08  -8.072    0.126E-03  -3.898\\n 0.794E+04   3.900    0.1457    0.208E-01  -1.683    0.120E-08  -8.919    0.272E-04  -4.565\\n 0.944E+04   3.975    0.1012    0.164E-02  -2.785    0.951E-10 -10.022    0.522E-05  -5.282\\n 0.112E+05   4.050    0.0816    0.991E-04  -4.004    0.575E-11 -11.241    0.949E-06  -6.023\\n 0.133E+05   4.125    0.0742    0.550E-05  -5.260    0.319E-12 -12.496    0.170E-06  -6.768\\n 0.158E+05   4.200    0.0715    0.296E-06  -6.529    0.172E-13 -13.766    0.304E-07  -7.517\\n 0.188E+05   4.275    0.0705    0.158E-07  -7.802    0.914E-15 -15.039    0.541E-08  -8.267\\n 0.224E+05   4.350    0.0702    0.838E-09  -9.077    0.486E-16 -16.313    0.963E-09  -9.017\\n 0.266E+05   4.425    0.0701    0.445E-10 -10.352    0.258E-17 -17.588    0.171E-09  -9.767\\n 0.316E+05   4.500    0.0700    0.236E-11 -11.627    0.137E-18 -18.863    0.304E-10 -10.517\\n 0.376E+05   4.575    0.0700    0.125E-12 -12.902    0.727E-20 -20.138    0.541E-11 -11.266\\n 0.447E+05   4.650    0.0700    0.666E-14 -14.177    0.386E-21 -21.413    0.963E-12 -12.016\\n 0.531E+05   4.725    0.0700    0.354E-15 -15.452    0.205E-22 -22.688    0.171E-12 -12.766\\n 0.631E+05   4.800    0.0700    0.188E-16 -16.727    0.109E-23 -23.963    0.304E-13 -13.516\\n \\n Inverse solution calculation time [sec]   2.18000000715256     \\n'"
      ]
     },
     "execution_count": 112,
     "metadata": {},
     "output_type": "execute_result"
    }
   ],
   "source": [
    "fh = open(\"VS, CA 1\\Fit.out\", \"r\")\n",
    "fh = fh.read()\n",
    "fh.\n",
    "\n",
    "### AAAAAHHHHH!! I've created a monster!"
   ]
  },
  {
   "cell_type": "code",
   "execution_count": null,
   "metadata": {},
   "outputs": [],
   "source": []
  }
 ],
 "metadata": {
  "kernelspec": {
   "display_name": "Python 3",
   "language": "python",
   "name": "python3"
  },
  "language_info": {
   "codemirror_mode": {
    "name": "ipython",
    "version": 3
   },
   "file_extension": ".py",
   "mimetype": "text/x-python",
   "name": "python",
   "nbconvert_exporter": "python",
   "pygments_lexer": "ipython3",
   "version": "3.7.4"
  }
 },
 "nbformat": 4,
 "nbformat_minor": 4
}
