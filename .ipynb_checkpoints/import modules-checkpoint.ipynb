{
 "cells": [
  {
   "cell_type": "markdown",
   "metadata": {},
   "source": [
    "# LaTeX\n",
    "$ a + b = c $\n",
    "$$ \\Sigma = \\frac{1}{exp(-cx)} $$"
   ]
  },
  {
   "cell_type": "markdown",
   "metadata": {},
   "source": [
    "# Python as a calculator"
   ]
  },
  {
   "cell_type": "code",
   "execution_count": 9,
   "metadata": {},
   "outputs": [
    {
     "name": "stdout",
     "output_type": "stream",
     "text": [
      "7.222222222222222\n",
      "The temperature is 7.222222222222222\n",
      "The temperature is 7\n",
      "The temperature is 7.22\n",
      "The tempertaure is 7.22 Celcius.\n"
     ]
    }
   ],
   "source": [
    "# This is a comment\n",
    "# Convert Ferinhight to Celcius\n",
    "\n",
    "F = 45\n",
    "C = (F - 32)*5/9\n",
    "print (C)\n",
    "print (\"The temperature is\", C)\n",
    "print (\"The temperature is\", round(C))\n",
    "print (\"The temperature is\", round(C,2))\n",
    "print (\"The tempertaure is\", round(C,2), \"Celcius.\" )\n",
    "\n",
    "# The function round() is central to python coding."
   ]
  },
  {
   "cell_type": "code",
   "execution_count": 11,
   "metadata": {},
   "outputs": [
    {
     "name": "stdout",
     "output_type": "stream",
     "text": [
      "7.22\n"
     ]
    }
   ],
   "source": [
    "rounded_number = round(C,2)\n",
    "print (rounded_number)\n",
    "\n",
    "# The first argument of the function round is manditory (black); the second is optional.\n",
    "# To get a short hint on the operation of a funtion in pythong, you can use: help(round), round?"
   ]
  },
  {
   "cell_type": "markdown",
   "metadata": {},
   "source": [
    "# Import Modules"
   ]
  },
  {
   "cell_type": "code",
   "execution_count": 14,
   "metadata": {},
   "outputs": [],
   "source": [
    "# There are multiple ways to import things...\n",
    "import math # import <module>\n",
    "\n",
    "import numpy as np # import <module> as <alias>\n",
    "\n",
    "# Alias helps to simplify calling imports: \"np.\" vs \"numpy.\"\n",
    "\n",
    "import matplotlib.pyplot as plt # import <module>.<submodule> as <alias>"
   ]
  },
  {
   "cell_type": "code",
   "execution_count": 15,
   "metadata": {},
   "outputs": [],
   "source": [
    "# Alocate a cell at the begining to keep a record of imports."
   ]
  },
  {
   "cell_type": "code",
   "execution_count": 17,
   "metadata": {},
   "outputs": [
    {
     "name": "stdout",
     "output_type": "stream",
     "text": [
      "3.7.4 (default, Aug  9 2019, 18:34:13) [MSC v.1915 64 bit (AMD64)]\n"
     ]
    }
   ],
   "source": [
    "import sys\n",
    "print(sys.version)"
   ]
  },
  {
   "cell_type": "code",
   "execution_count": 20,
   "metadata": {},
   "outputs": [
    {
     "name": "stdout",
     "output_type": "stream",
     "text": [
      "time.struct_time(tm_year=2020, tm_mon=1, tm_mday=29, tm_hour=15, tm_min=14, tm_sec=11, tm_wday=2, tm_yday=29, tm_isdst=0)\n"
     ]
    }
   ],
   "source": [
    "# Important concept of python.\n",
    "import time\n",
    "\n",
    "clock = time.localtime()\n",
    "print(clock)"
   ]
  },
  {
   "cell_type": "code",
   "execution_count": 21,
   "metadata": {},
   "outputs": [],
   "source": [
    "# Structure means that there is a lot of information being printed.\n",
    "# All the features, tm_year, tm_month, etc are in clock."
   ]
  },
  {
   "cell_type": "code",
   "execution_count": 24,
   "metadata": {},
   "outputs": [
    {
     "name": "stdout",
     "output_type": "stream",
     "text": [
      "14\n"
     ]
    }
   ],
   "source": [
    "print(clock.tm_min)"
   ]
  },
  {
   "cell_type": "code",
   "execution_count": 22,
   "metadata": {},
   "outputs": [
    {
     "data": {
      "text/plain": [
       "time.struct_time"
      ]
     },
     "execution_count": 22,
     "metadata": {},
     "output_type": "execute_result"
    }
   ],
   "source": [
    "type(clock)"
   ]
  },
  {
   "cell_type": "code",
   "execution_count": 25,
   "metadata": {},
   "outputs": [
    {
     "name": "stdout",
     "output_type": "stream",
     "text": [
      "Executing step 1\n",
      "Executing step 2\n",
      "Executing step 3\n"
     ]
    }
   ],
   "source": [
    "#Showing that python moves sequentially...\n",
    "print(\"Executing step 1\")\n",
    "print(\"Executing step 2\")\n",
    "print(\"Executing step 3\")"
   ]
  },
  {
   "cell_type": "code",
   "execution_count": 27,
   "metadata": {},
   "outputs": [
    {
     "name": "stdout",
     "output_type": "stream",
     "text": [
      "Executing step 1\n",
      "Executing step 2\n",
      "Executing step 3\n",
      "Python is synchonous\n"
     ]
    }
   ],
   "source": [
    "#Showing that python moves sequentially...\n",
    "print(\"Executing step 1\")\n",
    "time.sleep(5)\n",
    "print(\"Executing step 2\")\n",
    "print(\"Executing step 3\")\n",
    "time.sleep(3)\n",
    "print(\"Python is synchonous\")"
   ]
  },
  {
   "cell_type": "code",
   "execution_count": null,
   "metadata": {},
   "outputs": [],
   "source": []
  }
 ],
 "metadata": {
  "kernelspec": {
   "display_name": "Python 3",
   "language": "python",
   "name": "python3"
  },
  "language_info": {
   "codemirror_mode": {
    "name": "ipython",
    "version": 3
   },
   "file_extension": ".py",
   "mimetype": "text/x-python",
   "name": "python",
   "nbconvert_exporter": "python",
   "pygments_lexer": "ipython3",
   "version": "3.7.4"
  }
 },
 "nbformat": 4,
 "nbformat_minor": 4
}
