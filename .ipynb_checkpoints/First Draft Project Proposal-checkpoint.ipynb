{
 "cells": [
  {
   "cell_type": "markdown",
   "metadata": {},
   "source": [
    "# Project Proposal\n",
    "\n",
    "## Background\n",
    "\n",
    "The K-State Civil Engineering Department is currently conducting research on rialroad ballast: characterizing the suction properties of fouled ballast using soil water characteristic curves (SWCC). A transient water release and imbibition method (TRIM, Wayllace and Lu 2012) is in use. The TRIM measures the two-step outflow of an unsaturated sample (such as fouled ballast) and then models the SWCC using an inverse method. Three to five hours of data processing are typically required for production of premium SWCC modles using this method. Processing includes phase relationship calcualtions, filtering and formatting sample data, updating model input files, extracting and formatiting model ouput, and creating fugures of results. Much of this work is being exicuted manually in Excel, Note++, and Matlab. Characterization of fouled ballast will outlast the academic careers of several master's students; therefore, a thoughtfully-designed autimated-process would help productivity throughout the course of the project especially as new students beging to work on it. \n",
    "\n",
    "## Objective\n",
    "\n",
    "The objective of this coding project is to autimate as much of the aformentioned processes as posible. It should facilitate faster experimental setup, data processing, and creation of figures. It should also increase the itegrity and repetability of results by cutting out manually performed steps in each category. This coding project is broken into three phases. Each phase and their respective outcomes are listed below.\n",
    "\n",
    "### Phase 1\n",
    "* Accept input data (e.g. specific gravity, volume, target dry density, and degree of fouling).\n",
    "* Perform basic phase relationship calcuations using the aforementioned input data.\n",
    "* Return a .csv file with TRIM test specs for experimental setup.\n",
    "\n",
    "### Phase 2\n",
    "* Open the out.txt file of recorded two-step outflow data produced by the TRIM sofware and convert it to a .csv file.\n",
    "* Separate saturated flow data from unsaturated flow data in the .csv file.\n",
    "* Process the unsaturated flow data: sample the data (only need 100 points form the typical 2000 points collected), and adjust data for air diffusion.\n",
    "* Return a .txt file of unsaturated flow data formatted to be emediatly used as input to inverse modleing software such as Hydrus 1D.\n",
    "\n",
    "### Phase 3\n",
    "* Open the out.txt file of the inverse modeling sofware.\n",
    "* Extract the imortant data from the out.txt file: SWCC data, and the route mean squared error (RMSE) and regression (R^2) data.\n",
    "* Return a plot of the SWCC and a .csv file with the SWCC, RMSE, and R^2 data.\n",
    "\n",
    "## Sketch of code\n",
    "<img src=\"Flow diagram1.png\" alt=\"Flow diagram1\" width=\"800\"/>\n",
    "<img src=\"Flow diagram2.png\" alt=\"Flow diagram2\" width=\"800\"/>\n",
    "<img src=\"Flow diagram3.png\" alt=\"Flow diagram3\" width=\"800\"/>\n"
   ]
  },
  {
   "cell_type": "code",
   "execution_count": null,
   "metadata": {},
   "outputs": [],
   "source": []
  }
 ],
 "metadata": {
  "kernelspec": {
   "display_name": "Python 3",
   "language": "python",
   "name": "python3"
  },
  "language_info": {
   "codemirror_mode": {
    "name": "ipython",
    "version": 3
   },
   "file_extension": ".py",
   "mimetype": "text/x-python",
   "name": "python",
   "nbconvert_exporter": "python",
   "pygments_lexer": "ipython3",
   "version": "3.7.4"
  }
 },
 "nbformat": 4,
 "nbformat_minor": 4
}
