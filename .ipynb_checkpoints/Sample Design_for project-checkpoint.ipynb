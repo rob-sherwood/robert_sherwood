{
 "cells": [
  {
   "cell_type": "markdown",
   "metadata": {},
   "source": [
    "# Sample Design"
   ]
  },
  {
   "cell_type": "code",
   "execution_count": 1,
   "metadata": {},
   "outputs": [],
   "source": [
    "import numpy as np"
   ]
  },
  {
   "cell_type": "code",
   "execution_count": 34,
   "metadata": {},
   "outputs": [
    {
     "name": "stdin",
     "output_type": "stream",
     "text": [
      "Insert the mass of dry solids in gr.: 170\n",
      "Insert the specific gravity of solids: 2.7\n",
      "Insert the target dry density of the sample in gr./cm^3: 1.69\n"
     ]
    },
    {
     "name": "stdout",
     "output_type": "stream",
     "text": [
      " \n",
      "Compact the 170.0 gr. of dry meaterial to a hieght of 3.36 cm (i.e. 3.24 cm from the top of the acrylic housing).\n",
      " \n",
      "After compaction, take three depth measurements between the top of the acrylic housing and the sample surface, measure in cm. Those measurements will be used to calculate the actual sample dry density (gr./cm^3), porosity, and the mass of water required to saturate the sample (gr.).\n",
      " \n",
      "Insert the three sample height measurements in cm.\n"
     ]
    },
    {
     "name": "stdin",
     "output_type": "stream",
     "text": [
      "Actual depth #1: 3.26\n",
      "Actual depth #2: 3.24\n",
      "Actual depth #3: 3.22\n"
     ]
    },
    {
     "name": "stdout",
     "output_type": "stream",
     "text": [
      " \n",
      "The average height of the sample is 3.36 cm.\n",
      "The porosity of the sample is: 0.37\n",
      "The mass of water required to saturate the sample is 37.39 gr.\n"
     ]
    }
   ],
   "source": [
    "# Input Sample Information: \n",
    "## mass of dry solids (Ms in gr.), \n",
    "## specific gravity of solids (Gs), and \n",
    "## target dry density of sample (rho_d in gr./cm^3). \n",
    "\n",
    "Ms = float(input(\"Insert the mass of dry solids in gr.:\"))\n",
    "Gs = float(input(\"Insert the specific gravity of solids:\"))\n",
    "rho_dry = float(input(\"Insert the target dry density of the sample in gr./cm^3:\"))\n",
    "\n",
    "# Defining dimentions of the fow cell:\n",
    "## diameter (D_cell in cm) and \n",
    "## hight (H_cell in cm).\n",
    "\n",
    "D_cell = 6.175 #cm\n",
    "H_cell = 6.597 #cm\n",
    "\n",
    "# Calcualting the cross section area of the flow cell (A_cell in cm^2).\n",
    "A_cell = np.pi * D_cell **2 /4 #cm^2\n",
    "\n",
    "# Calcualting the desing height (H in cm) required to meet target dry density.\n",
    "H = Ms / rho_dry / A_cell #cm\n",
    "H_from_top = H_cell - H   #cm\n",
    "\n",
    "print(\" \")\n",
    "print(\"Compact the\", Ms, \"gr. of dry meaterial to a hieght of\", round(H,2), \n",
    "      \"cm (i.e.\", round(H_from_top,2), \"cm from the top of the acrylic housing).\")\n",
    "print(\" \")\n",
    "print(\"After compaction, take three depth measurements between the top of the\",\n",
    "      \"acrylic housing and the sample surface; measure in cm. Those measurements\",  \n",
    "      \"will be used to calculate the actual sample dry density (gr./cm^3),\",\n",
    "      \"porosity, and the mass of water required to saturate the sample (gr.).\")\n",
    "\n",
    "# Input the actual sample hight (H_actual in cm).\n",
    "print(\" \"); print(\"Insert the three sample height measurements in cm.\")\n",
    "Dpth1 = float(input(\"Actual depth #1:\")) #cm\n",
    "Dpth2 = float(input(\"Actual depth #2:\")) #cm\n",
    "Dpth3 = float(input(\"Actual depth #3:\")) #cm\n",
    "\n",
    "# Calcualtes the average sample height in cm.\n",
    "H_avg = H_cell - np.average([Dpth1, Dpth2, Dpth3]) #cm\n",
    "print(\" \"); print(\"The average height of the sample is\", round(H_avg,2), \"cm.\")\n",
    "\n",
    "# Defining the density of water at 20C.\n",
    "rho_w = 0.9982 #gr./cm^3\n",
    "\n",
    "# Calculating the porosity of the sample (n) and the mass of water required to\n",
    "# saturate the sample (Mw in gr.) based on actual sample hieght.\n",
    "n = 1 - (Ms / (Gs * H_avg * A_cell))  #no units\n",
    "Mw = H_avg * A_cell * rho_w - Ms / Gs #gr.\n",
    "\n",
    "print(\"The porosity of the sample is:\", round(n,3))\n",
    "print(\"The mass of water required to saturate the sample is\", round(Mw,2), \"gr.\")"
   ]
  },
  {
   "cell_type": "code",
   "execution_count": null,
   "metadata": {},
   "outputs": [],
   "source": []
  }
 ],
 "metadata": {
  "kernelspec": {
   "display_name": "Python 3",
   "language": "python",
   "name": "python3"
  },
  "language_info": {
   "codemirror_mode": {
    "name": "ipython",
    "version": 3
   },
   "file_extension": ".py",
   "mimetype": "text/x-python",
   "name": "python",
   "nbconvert_exporter": "python",
   "pygments_lexer": "ipython3",
   "version": "3.7.4"
  }
 },
 "nbformat": 4,
 "nbformat_minor": 4
}
