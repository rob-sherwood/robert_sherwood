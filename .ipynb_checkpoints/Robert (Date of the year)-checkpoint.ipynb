{
 "cells": [
  {
   "cell_type": "markdown",
   "metadata": {},
   "source": [
    "# Day of the year\n",
    "\n",
    "__Name:__ Robert Sherwood <br/>\n",
    "__Date:__ 2/2/2020"
   ]
  },
  {
   "cell_type": "code",
   "execution_count": 5,
   "metadata": {},
   "outputs": [],
   "source": [
    "# Importing Modules\n",
    "\n",
    "import math\n",
    "import time\n",
    "import datetime"
   ]
  },
  {
   "cell_type": "code",
   "execution_count": 21,
   "metadata": {},
   "outputs": [
    {
     "name": "stdout",
     "output_type": "stream",
     "text": [
      "2020-02-02 15:57:37.507732\n",
      "Day of the year is 33\n"
     ]
    }
   ],
   "source": [
    "# Define 'date_end' as the current date.\n",
    "date_end = datetime.datetime.now()\n",
    "# date_end = datetime.datetime(2020,2,29)\n",
    "    \n",
    "print(date_end)\n",
    "\n",
    "# Define 'clock' so that it can be referenced in 'date_start'.\n",
    "clock = time.localtime()\n",
    "\n",
    "# Define 'date_start' as the first day of the first month of the current year.\n",
    "date_start = datetime.datetime(clock.tm_year,1,1)\n",
    "\n",
    "# Calculate the difference between dates (days, hr:min:sec).\n",
    "date_diff = date_end - date_start\n",
    "\n",
    "# Convert date_diff from units of days, hr:min:sec to just seconds and call result 'total_seconds'.\n",
    "total_seconds = date_diff.total_seconds()\n",
    "\n",
    "# Divide 'total_seconds' by the total seconds in one day (84600 sec./day) to get 'total_days'.\n",
    "seconds_per_day = 86400\n",
    "total_days = total_seconds / (seconds_per_day) #Un-rounded total number of days.\n",
    "\n",
    "# Round 'total_days' up to the nearest whole day and call 'Day_of_Year'.\n",
    "Day_of_Year = math.ceil(total_days)\n",
    "\n",
    "# Report the day of the year: 'Day_of_Year'.\n",
    "print(\"Day of the year is\", Day_of_Year)"
   ]
  },
  {
   "cell_type": "code",
   "execution_count": null,
   "metadata": {},
   "outputs": [],
   "source": []
  }
 ],
 "metadata": {
  "kernelspec": {
   "display_name": "Python 3",
   "language": "python",
   "name": "python3"
  },
  "language_info": {
   "codemirror_mode": {
    "name": "ipython",
    "version": 3
   },
   "file_extension": ".py",
   "mimetype": "text/x-python",
   "name": "python",
   "nbconvert_exporter": "python",
   "pygments_lexer": "ipython3",
   "version": "3.7.4"
  }
 },
 "nbformat": 4,
 "nbformat_minor": 4
}
